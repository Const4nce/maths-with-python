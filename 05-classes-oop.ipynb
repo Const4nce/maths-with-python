{
 "cells": [
  {
   "cell_type": "markdown",
   "metadata": {},
   "source": [
    "# Classes and Object Oriented Programming"
   ]
  },
  {
   "cell_type": "markdown",
   "metadata": {},
   "source": [
    "We have looked at functions which take input and return output (or do things to the input). However, sometimes it is useful to think about *objects* first rather than the actions applied to them."
   ]
  },
  {
   "cell_type": "markdown",
   "metadata": {},
   "source": [
    "Think about a polynomial, such as the cubic\n",
    "\n",
    "\\begin{equation}\n",
    "  p(x) = 12 - 14 x + 2 x^3.\n",
    "\\end{equation}\n",
    "\n",
    "This is one of the standard forms that we would expect to see for a polynomial. We could imagine representing this in python using a container containing the coefficients, such as:"
   ]
  },
  {
   "cell_type": "code",
   "execution_count": 1,
   "metadata": {
    "collapsed": true
   },
   "outputs": [],
   "source": [
    "p_normal = (12, -14, 0, 2)"
   ]
  },
  {
   "cell_type": "markdown",
   "metadata": {},
   "source": [
    "The order of the polynomial is given by the number of coefficients (minus one), which is given by `len(p_normal)-1`."
   ]
  },
  {
   "cell_type": "markdown",
   "metadata": {},
   "source": [
    "However, there are many other ways it could be written, which are useful in different contexts. For example, we are often interested in the roots of the polynomial, so would want to express it in the form\n",
    "\n",
    "\\begin{equation}\n",
    "  p(x) = 2 (x - 1)(x - 2)(x + 3).\n",
    "\\end{equation}\n",
    "\n",
    "This allows us to read off the roots directly. We could imagine representing this in python using a container containing the roots, such as:"
   ]
  },
  {
   "cell_type": "code",
   "execution_count": 2,
   "metadata": {
    "collapsed": true
   },
   "outputs": [],
   "source": [
    "p_roots = (1, 2, -3)"
   ]
  },
  {
   "cell_type": "markdown",
   "metadata": {},
   "source": [
    "combined with a single variable containing the leading term,"
   ]
  },
  {
   "cell_type": "code",
   "execution_count": 3,
   "metadata": {
    "collapsed": true
   },
   "outputs": [],
   "source": [
    "p_leading_term = 2"
   ]
  },
  {
   "cell_type": "markdown",
   "metadata": {},
   "source": [
    "We see that the order of the polynomial is given by the number of roots (and hence by `len(p_roots)`). This form represents the same polynomial but requires two pieces of information (the roots and the leading coefficient)."
   ]
  },
  {
   "cell_type": "markdown",
   "metadata": {},
   "source": [
    "The different forms are useful for different things. For example, if we want to add two polynomials the standard form makes it straightforward, but the factored form does not. Conversely, multiplying polynomials in the factored form is easy, whilst in the standard form it is not."
   ]
  },
  {
   "cell_type": "markdown",
   "metadata": {},
   "source": [
    "But the key point is that the object - the polynomial - is the same: the representation may appear different, but it's the object itself that we really care about. So we want to represent the object in code, and work with that object."
   ]
  },
  {
   "cell_type": "markdown",
   "metadata": {},
   "source": [
    "## Classes"
   ]
  },
  {
   "cell_type": "markdown",
   "metadata": {},
   "source": [
    "Python, and other languages that include *object oriented* concepts (which is most modern languages) allow you to define and manipulate your own objects. Here we will define a *polynomial* object step by step."
   ]
  },
  {
   "cell_type": "code",
   "execution_count": 4,
   "metadata": {
    "collapsed": true
   },
   "outputs": [],
   "source": [
    "class Polynomial(object):\n",
    "    explanation = \"I am a polynomial\"\n",
    "    \n",
    "    def explain(self):\n",
    "        print(self.explanation)\n",
    "        return None\n"
   ]
  },
  {
   "cell_type": "markdown",
   "metadata": {},
   "source": [
    "We have defined a *class*, which is a single object that will represent a polynomial. We use the keyword `class` in the same way that we use the keyword `def` when defining a function. The definition line ends with a colon, and all the code defining the object is indented by four spaces.\n",
    "\n",
    "The name of the object - the general class, or type, of the thing that we're defining - is `Polynomial`. The convention is that class names start with capital letters, but this convention is frequently ignored.\n",
    "\n",
    "The type of object that we are building on appears in brackets after the name of the object. The most basic thing, which is used most often, is the `object` type as here."
   ]
  },
  {
   "cell_type": "markdown",
   "metadata": {},
   "source": [
    "Class variables are defined in the usual way, but are only visible inside the class. Variables that are set outside of functions, such as `explanation` above, will be common to all class variables.\n",
    "\n",
    "Functions are defined inside classes in the usual way (using the `def` keyword, indented by four additional spaces). They work in a special way: they are not called directly, but only when you have a member of the class. This is what the `self` keyword does: it takes the specific *instance* of the class and uses its data. Class functions are often called *methods*.\n",
    "\n",
    "Let's see how this works on a specific example:"
   ]
  },
  {
   "cell_type": "code",
   "execution_count": 5,
   "metadata": {
    "collapsed": false
   },
   "outputs": [
    {
     "name": "stdout",
     "output_type": "stream",
     "text": [
      "I am a polynomial\n",
      "I am a polynomial\n",
      "I change the string\n"
     ]
    }
   ],
   "source": [
    "p = Polynomial()\n",
    "print(p.explanation)\n",
    "p.explain()\n",
    "p.explanation = \"I change the string\"\n",
    "p.explain()"
   ]
  },
  {
   "cell_type": "markdown",
   "metadata": {},
   "source": [
    "The first line, `p = Polynomial()`, creates an *instance* of the class. That is, it creates a specific `Polynomial`. It is assigned to the variable named `p`. We can access class variables using the \"dot\" notation, so the string can be printed via `p.explanation`. The method that prints the class variable also uses the \"dot\" notation, hence `p.explain()`. The `self` variable in the definition of the function is the instance itself, `p`. This is passed through automatically thanks to the dot notation.\n",
    "\n",
    "Note that we can change class variables in specific instances in the usual way (`p.explanation = ...` above). This only changes the variable for that instance. To check that, let us define two polynomials:"
   ]
  },
  {
   "cell_type": "code",
   "execution_count": 6,
   "metadata": {
    "collapsed": false
   },
   "outputs": [
    {
     "name": "stdout",
     "output_type": "stream",
     "text": [
      "Changed the string a third time\n",
      "I am a polynomial\n"
     ]
    }
   ],
   "source": [
    "p = Polynomial()\n",
    "p.explanation = \"Changed the string again\"\n",
    "q = Polynomial()\n",
    "p.explanation = \"Changed the string a third time\"\n",
    "p.explain()\n",
    "q.explain()"
   ]
  },
  {
   "cell_type": "markdown",
   "metadata": {},
   "source": [
    "We can of course make the methods take additional variables. We modify the class (note that we have to completely re-define it each time):"
   ]
  },
  {
   "cell_type": "code",
   "execution_count": 7,
   "metadata": {
    "collapsed": true
   },
   "outputs": [],
   "source": [
    "class Polynomial(object):\n",
    "    explanation = \"I am a polynomial\"\n",
    "    \n",
    "    def explain_to(self, caller):\n",
    "        print(\"Hello, {}. {}.\".format(caller,self.explanation))\n",
    "        return None\n"
   ]
  },
  {
   "cell_type": "markdown",
   "metadata": {},
   "source": [
    "We then use this, remembering that the `self` variable is passed through automatically:"
   ]
  },
  {
   "cell_type": "code",
   "execution_count": 8,
   "metadata": {
    "collapsed": false
   },
   "outputs": [
    {
     "name": "stdout",
     "output_type": "stream",
     "text": [
      "Hello, Alice. I am a polynomial.\n"
     ]
    }
   ],
   "source": [
    "r = Polynomial()\n",
    "r.explain_to(\"Alice\")"
   ]
  },
  {
   "cell_type": "markdown",
   "metadata": {},
   "source": [
    "At the moment the class is not doing anything interesting. To do something interesting we need to store (and manipulate) relevant variables. The first thing to do is to add those variables when the instance is actually created. We do this by adding a special function (method) which changes how the variables of type `Polynomial` are created:"
   ]
  },
  {
   "cell_type": "code",
   "execution_count": 9,
   "metadata": {
    "collapsed": true
   },
   "outputs": [],
   "source": [
    "class Polynomial(object):\n",
    "    \"\"\"Representing a polynomial.\"\"\"\n",
    "    explanation = \"I am a polynomial\"\n",
    "    \n",
    "    def __init__(self, roots, leading_term):\n",
    "        self.roots = roots\n",
    "        self.leading_term = leading_term\n",
    "        self.order = len(roots)\n",
    "    \n",
    "    def explain_to(self, caller):\n",
    "        print(\"Hello, {}. {}.\".format(caller,self.explanation))\n",
    "        print(\"My roots are {}.\".format(self.roots))\n",
    "        return None"
   ]
  },
  {
   "cell_type": "markdown",
   "metadata": {},
   "source": [
    "This `__init__` function is called when a variable is created. There are a number of special class functions, each of which has two underscores before and after the name. So now we can create a variable that represents a specific polynomial by storing its roots and the leading term:"
   ]
  },
  {
   "cell_type": "code",
   "execution_count": 10,
   "metadata": {
    "collapsed": false
   },
   "outputs": [
    {
     "name": "stdout",
     "output_type": "stream",
     "text": [
      "Hello, Alice. I am a polynomial.\n",
      "My roots are (1, 2, -3).\n",
      "Hello, Bob. I am a polynomial.\n",
      "My roots are (1, 1, 0, -2).\n"
     ]
    }
   ],
   "source": [
    "p = Polynomial(p_roots, p_leading_term)\n",
    "p.explain_to(\"Alice\")\n",
    "q = Polynomial((1,1,0,-2), -1)\n",
    "q.explain_to(\"Bob\")"
   ]
  },
  {
   "cell_type": "markdown",
   "metadata": {},
   "source": [
    "Another special function that is very useful is `__repr__`. This gives a *representation* of the class. In essence, if you ask python to `print` a variable, it will print the *string* returned by the `__repr__` function. We can use this to create a simple string representation of the polynomial:"
   ]
  },
  {
   "cell_type": "code",
   "execution_count": 11,
   "metadata": {
    "collapsed": true
   },
   "outputs": [],
   "source": [
    "class Polynomial(object):\n",
    "    \"\"\"Representing a polynomial.\"\"\"\n",
    "    explanation = \"I am a polynomial\"\n",
    "    \n",
    "    def __init__(self, roots, leading_term):\n",
    "        self.roots = roots\n",
    "        self.leading_term = leading_term\n",
    "        self.order = len(roots)\n",
    "        \n",
    "    def __repr__(self):\n",
    "        string = str(self.leading_term)\n",
    "        for root in self.roots:\n",
    "            if root == 0:\n",
    "                string = string + \"x\"\n",
    "            elif root > 0:\n",
    "                string = string + \"(x - {})\".format(root)\n",
    "            else:\n",
    "                string = string + \"(x + {})\".format(-root)\n",
    "        return string\n",
    "    \n",
    "    def explain_to(self, caller):\n",
    "        print(\"Hello, {}. {}.\".format(caller,self.explanation))\n",
    "        print(\"My roots are {}.\".format(self.roots))\n",
    "        return None"
   ]
  },
  {
   "cell_type": "code",
   "execution_count": 12,
   "metadata": {
    "collapsed": false
   },
   "outputs": [
    {
     "name": "stdout",
     "output_type": "stream",
     "text": [
      "2(x - 1)(x - 2)(x + 3)\n",
      "-1(x - 1)(x - 1)x(x + 2)\n"
     ]
    }
   ],
   "source": [
    "p = Polynomial(p_roots, p_leading_term)\n",
    "print(p)\n",
    "q = Polynomial((1,1,0,-2), -1)\n",
    "print(q)"
   ]
  },
  {
   "cell_type": "markdown",
   "metadata": {},
   "source": [
    "The final special function we'll look at (although there are [many more](https://docs.python.org/2/library/operator.html), many of which may be useful) is `__mul__`. This allows python to *multiply* two variables together. With this we can take the product of two polynomials:"
   ]
  },
  {
   "cell_type": "code",
   "execution_count": 13,
   "metadata": {
    "collapsed": true
   },
   "outputs": [],
   "source": [
    "class Polynomial(object):\n",
    "    \"\"\"Representing a polynomial.\"\"\"\n",
    "    explanation = \"I am a polynomial\"\n",
    "    \n",
    "    def __init__(self, roots, leading_term):\n",
    "        self.roots = roots\n",
    "        self.leading_term = leading_term\n",
    "        self.order = len(roots)\n",
    "        \n",
    "    def __repr__(self):\n",
    "        string = str(self.leading_term)\n",
    "        for root in self.roots:\n",
    "            if root == 0:\n",
    "                string = string + \"x\"\n",
    "            elif root > 0:\n",
    "                string = string + \"(x - {})\".format(root)\n",
    "            else:\n",
    "                string = string + \"(x + {})\".format(-root)\n",
    "        return string\n",
    "    \n",
    "    def __mul__(self, other):\n",
    "        roots = self.roots + other.roots\n",
    "        leading_term = self.leading_term * other.leading_term\n",
    "        return Polynomial(roots, leading_term)\n",
    "    \n",
    "    def explain_to(self, caller):\n",
    "        print(\"Hello, {}. {}.\".format(caller,self.explanation))\n",
    "        print(\"My roots are {}.\".format(self.roots))\n",
    "        return None"
   ]
  },
  {
   "cell_type": "code",
   "execution_count": 14,
   "metadata": {
    "collapsed": false
   },
   "outputs": [
    {
     "name": "stdout",
     "output_type": "stream",
     "text": [
      "-2(x - 1)(x - 2)(x + 3)(x - 1)(x - 1)x(x + 2)\n"
     ]
    }
   ],
   "source": [
    "p = Polynomial(p_roots, p_leading_term)\n",
    "q = Polynomial((1,1,0,-2), -1)\n",
    "r = p*q\n",
    "print(r)"
   ]
  },
  {
   "cell_type": "markdown",
   "metadata": {},
   "source": [
    "We now have a simple class that can represent polynomials and multiply them together, whilst printing out a simple string form representing itself. This can obviously be extended to be much more useful."
   ]
  },
  {
   "cell_type": "markdown",
   "metadata": {},
   "source": [
    "## Inheritance"
   ]
  },
  {
   "cell_type": "markdown",
   "metadata": {},
   "source": [
    "As we can see above, building a complete class from scratch can be lengthy and tedious. If there is another class that does much of what we want, we can build on top of that. This is the idea behind *inheritance*. \n",
    "\n",
    "In the case of the `Polynomial` we declared that it started from the `object` class in the first line defining the class: `class Polynomial(object)`. But we can build on any class, by replacing `object` with something else. Here we will build on the `Polynomial` class that we've started with.\n",
    "\n",
    "A *monomial* is a polynomial whose leading term is simply 1. A monomial *is* a polynomial, and could be represented as such. However, we could build a class that knows that the leading term is always 1: there may be cases where we can take advantage of this additional simplicity.\n",
    "\n",
    "We build a new monomial class as follows:"
   ]
  },
  {
   "cell_type": "code",
   "execution_count": 15,
   "metadata": {
    "collapsed": true
   },
   "outputs": [],
   "source": [
    "class Monomial(Polynomial):\n",
    "    \"\"\"Representing a monomial, which is a polynomial with leading term 1.\"\"\"\n",
    "    \n",
    "    def __init__(self, roots):\n",
    "        self.roots = roots\n",
    "        self.leading_term = 1\n",
    "        self.order = len(roots)"
   ]
  },
  {
   "cell_type": "markdown",
   "metadata": {},
   "source": [
    "Variables of the  `Monomial` class *are* also variables of the `Polynomial` class, so can use all the methods and functions from the `Polynomial` class automatically:"
   ]
  },
  {
   "cell_type": "code",
   "execution_count": 16,
   "metadata": {
    "collapsed": false
   },
   "outputs": [
    {
     "name": "stdout",
     "output_type": "stream",
     "text": [
      "Hello, Caroline. I am a polynomial.\n",
      "My roots are (-1, 4, 9).\n",
      "1(x + 1)(x - 4)(x - 9)\n"
     ]
    }
   ],
   "source": [
    "m = Monomial((-1, 4, 9))\n",
    "m.explain_to(\"Caroline\")\n",
    "print(m)"
   ]
  },
  {
   "cell_type": "markdown",
   "metadata": {},
   "source": [
    "We note that these functions, methods and variables may not be exactly right, as they are given for the general `Polynomial` class, not by the specific `Monomial` class. If we *redefine* these functions and variables inside the `Monomial` class, they will *override* those defined in the `Polynomial` class. We do not have to override all the functions and variables, just the parts we want to change:"
   ]
  },
  {
   "cell_type": "code",
   "execution_count": 17,
   "metadata": {
    "collapsed": true
   },
   "outputs": [],
   "source": [
    "class Monomial(Polynomial):\n",
    "    \"\"\"Representing a monomial, which is a polynomial with leading term 1.\"\"\"\n",
    "    explanation = \"I am a monomial\"\n",
    "    \n",
    "    def __init__(self, roots):\n",
    "        self.roots = roots\n",
    "        self.leading_term = 1\n",
    "        self.order = len(roots)\n",
    "        \n",
    "    def __repr__(self):\n",
    "        string = \"\"\n",
    "        for root in self.roots:\n",
    "            if root == 0:\n",
    "                string = string + \"x\"\n",
    "            elif root > 0:\n",
    "                string = string + \"(x - {})\".format(root)\n",
    "            else:\n",
    "                string = string + \"(x + {})\".format(-root)\n",
    "        return string"
   ]
  },
  {
   "cell_type": "code",
   "execution_count": 18,
   "metadata": {
    "collapsed": false
   },
   "outputs": [
    {
     "name": "stdout",
     "output_type": "stream",
     "text": [
      "Hello, Caroline. I am a monomial.\n",
      "My roots are (-1, 4, 9).\n",
      "(x + 1)(x - 4)(x - 9)\n"
     ]
    }
   ],
   "source": [
    "m = Monomial((-1, 4, 9))\n",
    "m.explain_to(\"Caroline\")\n",
    "print(m)"
   ]
  },
  {
   "cell_type": "markdown",
   "metadata": {},
   "source": [
    "This has had no effect on the original `Polynomial` class and variables, which can be used as before:"
   ]
  },
  {
   "cell_type": "code",
   "execution_count": 19,
   "metadata": {
    "collapsed": false
   },
   "outputs": [
    {
     "name": "stdout",
     "output_type": "stream",
     "text": [
      "Hello, David. I am a polynomial.\n",
      "My roots are (2, 3).\n",
      "4(x - 2)(x - 3)\n"
     ]
    }
   ],
   "source": [
    "s = Polynomial((2, 3), 4)\n",
    "s.explain_to(\"David\")\n",
    "print(s)"
   ]
  },
  {
   "cell_type": "markdown",
   "metadata": {},
   "source": [
    "And, as `Monomial` variables are `Polynomials`, we can multiply them together to get a `Polynomial`:"
   ]
  },
  {
   "cell_type": "code",
   "execution_count": 20,
   "metadata": {
    "collapsed": false
   },
   "outputs": [
    {
     "name": "stdout",
     "output_type": "stream",
     "text": [
      "Hello, Erik. I am a polynomial.\n",
      "My roots are (-1, 4, 9, 2, 3).\n",
      "4(x + 1)(x - 4)(x - 9)(x - 2)(x - 3)\n"
     ]
    }
   ],
   "source": [
    "t = m*s\n",
    "t.explain_to(\"Erik\")\n",
    "print(t)"
   ]
  },
  {
   "cell_type": "markdown",
   "metadata": {},
   "source": [
    "In fact, we can be a bit smarter than this. Note that the `__init__` function of the `Monomial` class is identical to that of the `Polynomial` class, just with the `leading_term` set explicitly to `1`. Rather than duplicating the code and modifying a single value, we can *call* the `__init__` function of the `Polynomial` class directly. This is because the `Monomial` class is built on the `Polynomial` class, so knows about it. We regenerate the class, but only change the `__init__` function:"
   ]
  },
  {
   "cell_type": "code",
   "execution_count": 25,
   "metadata": {
    "collapsed": true
   },
   "outputs": [],
   "source": [
    "class Monomial(Polynomial):\n",
    "    \"\"\"Representing a monomial, which is a polynomial with leading term 1.\"\"\"\n",
    "    explanation = \"I am a monomial\"\n",
    "    \n",
    "    def __init__(self, roots):\n",
    "        Polynomial.__init__(self, roots, 1)\n",
    "        \n",
    "    def __repr__(self):\n",
    "        string = \"\"\n",
    "        for root in self.roots:\n",
    "            if root == 0:\n",
    "                string = string + \"x\"\n",
    "            elif root > 0:\n",
    "                string = string + \"(x - {})\".format(root)\n",
    "            else:\n",
    "                string = string + \"(x + {})\".format(-root)\n",
    "        return string"
   ]
  },
  {
   "cell_type": "code",
   "execution_count": 26,
   "metadata": {
    "collapsed": false
   },
   "outputs": [
    {
     "name": "stdout",
     "output_type": "stream",
     "text": [
      "Hello, Fred. I am a monomial.\n",
      "My roots are (2, -3).\n",
      "(x - 2)(x + 3)\n"
     ]
    }
   ],
   "source": [
    "v = Monomial((2, -3))\n",
    "v.explain_to(\"Fred\")\n",
    "print(v)"
   ]
  },
  {
   "cell_type": "markdown",
   "metadata": {},
   "source": [
    "We are now being very explicit in saying that a `Monomial` *really is* a `Polynomial` with `leading_term` being `1`. Note, that in this case we are calling the `__init__` function directly, so have to explicitly include the `self` argument."
   ]
  },
  {
   "cell_type": "markdown",
   "metadata": {},
   "source": [
    "By building on top of classes in this fashion, we can build classes that transparently represent the objects that we are interested in. \n",
    "\n",
    "Most modern programming languages include some object oriented features. Many (including python) will have more complex features than are introduced above. However, the key points where\n",
    "\n",
    "* a single variable representing an object can be defined,\n",
    "* methods that are specific to those objects can be defined,\n",
    "* new classes of object that inherit from and extend other classes can be defined,\n",
    "\n",
    "are the essential steps that are common across nearly all."
   ]
  }
 ],
 "metadata": {
  "kernelspec": {
   "display_name": "Python 2",
   "language": "python",
   "name": "python2"
  },
  "language_info": {
   "codemirror_mode": {
    "name": "ipython",
    "version": 2
   },
   "file_extension": ".py",
   "mimetype": "text/x-python",
   "name": "python",
   "nbconvert_exporter": "python",
   "pygments_lexer": "ipython2",
   "version": "2.7.10"
  },
  "nbconvert": {
   "title": "Classes and objects"
  }
 },
 "nbformat": 4,
 "nbformat_minor": 0
}
