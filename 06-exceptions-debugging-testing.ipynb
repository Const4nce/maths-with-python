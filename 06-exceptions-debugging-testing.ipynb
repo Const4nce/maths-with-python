{
 "cells": [
  {
   "cell_type": "markdown",
   "metadata": {},
   "source": [
    "Things go wrong when programming all the time. Some of these \"problems\" are errors that stop the program from making sense. Others are problems that stop the program from working in specific, special cases. These \"problems\" may be real, or we may want to treat them as special cases that don't stop the program from running.\n",
    "\n",
    "These special cases can be dealt with using *exceptions*."
   ]
  },
  {
   "cell_type": "markdown",
   "metadata": {},
   "source": [
    "# Exceptions"
   ]
  },
  {
   "cell_type": "markdown",
   "metadata": {},
   "source": [
    "Let's define a function that divides two numbers."
   ]
  },
  {
   "cell_type": "code",
   "execution_count": 1,
   "metadata": {
    "collapsed": true
   },
   "outputs": [],
   "source": [
    "from __future__ import division"
   ]
  },
  {
   "cell_type": "code",
   "execution_count": 2,
   "metadata": {
    "collapsed": true
   },
   "outputs": [],
   "source": [
    "def divide(numerator, denominator):\n",
    "    \"\"\"\n",
    "    Divide two numbers.\n",
    "    \n",
    "    Parameters\n",
    "    ----------\n",
    "    \n",
    "    numerator: float\n",
    "        numerator\n",
    "    denominator: float\n",
    "        denominator\n",
    "        \n",
    "    Returns\n",
    "    -------\n",
    "    \n",
    "    fraction: float\n",
    "        numerator / denominator \n",
    "    \"\"\"\n",
    "    return numerator / denominator"
   ]
  },
  {
   "cell_type": "code",
   "execution_count": 3,
   "metadata": {
    "collapsed": false
   },
   "outputs": [
    {
     "name": "stdout",
     "output_type": "stream",
     "text": [
      "0.8\n"
     ]
    }
   ],
   "source": [
    "print(divide(4.0, 5.0))"
   ]
  },
  {
   "cell_type": "markdown",
   "metadata": {},
   "source": [
    "But what happens if we try something *really stupid*?"
   ]
  },
  {
   "cell_type": "code",
   "execution_count": 4,
   "metadata": {
    "collapsed": false
   },
   "outputs": [
    {
     "ename": "ZeroDivisionError",
     "evalue": "float division by zero",
     "output_type": "error",
     "traceback": [
      "\u001b[0;31m---------------------------------------------------------------------------\u001b[0m",
      "\u001b[0;31mZeroDivisionError\u001b[0m                         Traceback (most recent call last)",
      "\u001b[0;32m<ipython-input-4-316ba9717160>\u001b[0m in \u001b[0;36m<module>\u001b[0;34m()\u001b[0m\n\u001b[0;32m----> 1\u001b[0;31m \u001b[0;32mprint\u001b[0m\u001b[0;34m(\u001b[0m\u001b[0mdivide\u001b[0m\u001b[0;34m(\u001b[0m\u001b[0;36m4.0\u001b[0m\u001b[0;34m,\u001b[0m \u001b[0;36m0.0\u001b[0m\u001b[0;34m)\u001b[0m\u001b[0;34m)\u001b[0m\u001b[0;34m\u001b[0m\u001b[0m\n\u001b[0m",
      "\u001b[0;32m<ipython-input-2-f5b027ed84cf>\u001b[0m in \u001b[0;36mdivide\u001b[0;34m(numerator, denominator)\u001b[0m\n\u001b[1;32m     17\u001b[0m         \u001b[0mnumerator\u001b[0m \u001b[0;34m/\u001b[0m \u001b[0mdenominator\u001b[0m\u001b[0;34m\u001b[0m\u001b[0m\n\u001b[1;32m     18\u001b[0m     \"\"\"\n\u001b[0;32m---> 19\u001b[0;31m     \u001b[0;32mreturn\u001b[0m \u001b[0mnumerator\u001b[0m \u001b[0;34m/\u001b[0m \u001b[0mdenominator\u001b[0m\u001b[0;34m\u001b[0m\u001b[0m\n\u001b[0m",
      "\u001b[0;31mZeroDivisionError\u001b[0m: float division by zero"
     ]
    }
   ],
   "source": [
    "print(divide(4.0, 0.0))"
   ]
  },
  {
   "cell_type": "markdown",
   "metadata": {},
   "source": [
    "So, the code works fine until we pass in input that we shouldn't. When we do, this causes the code to stop. To show how this can be a problem, consider the loop:"
   ]
  },
  {
   "cell_type": "code",
   "execution_count": 6,
   "metadata": {
    "collapsed": false
   },
   "outputs": [
    {
     "name": "stdout",
     "output_type": "stream",
     "text": [
      "4.0\n"
     ]
    },
    {
     "ename": "ZeroDivisionError",
     "evalue": "float division by zero",
     "output_type": "error",
     "traceback": [
      "\u001b[0;31m---------------------------------------------------------------------------\u001b[0m",
      "\u001b[0;31mZeroDivisionError\u001b[0m                         Traceback (most recent call last)",
      "\u001b[0;32m<ipython-input-6-05c6ef547bde>\u001b[0m in \u001b[0;36m<module>\u001b[0;34m()\u001b[0m\n\u001b[1;32m      1\u001b[0m \u001b[0mdenominators\u001b[0m \u001b[0;34m=\u001b[0m \u001b[0;34m[\u001b[0m\u001b[0;36m1.0\u001b[0m\u001b[0;34m,\u001b[0m \u001b[0;36m0.0\u001b[0m\u001b[0;34m,\u001b[0m \u001b[0;36m3.0\u001b[0m\u001b[0;34m,\u001b[0m \u001b[0;36m5.0\u001b[0m\u001b[0;34m]\u001b[0m\u001b[0;34m\u001b[0m\u001b[0m\n\u001b[1;32m      2\u001b[0m \u001b[0;32mfor\u001b[0m \u001b[0mdenominator\u001b[0m \u001b[0;32min\u001b[0m \u001b[0mdenominators\u001b[0m\u001b[0;34m:\u001b[0m\u001b[0;34m\u001b[0m\u001b[0m\n\u001b[0;32m----> 3\u001b[0;31m     \u001b[0;32mprint\u001b[0m\u001b[0;34m(\u001b[0m\u001b[0mdivide\u001b[0m\u001b[0;34m(\u001b[0m\u001b[0;36m4.0\u001b[0m\u001b[0;34m,\u001b[0m \u001b[0mdenominator\u001b[0m\u001b[0;34m)\u001b[0m\u001b[0;34m)\u001b[0m\u001b[0;34m\u001b[0m\u001b[0m\n\u001b[0m",
      "\u001b[0;32m<ipython-input-2-f5b027ed84cf>\u001b[0m in \u001b[0;36mdivide\u001b[0;34m(numerator, denominator)\u001b[0m\n\u001b[1;32m     17\u001b[0m         \u001b[0mnumerator\u001b[0m \u001b[0;34m/\u001b[0m \u001b[0mdenominator\u001b[0m\u001b[0;34m\u001b[0m\u001b[0m\n\u001b[1;32m     18\u001b[0m     \"\"\"\n\u001b[0;32m---> 19\u001b[0;31m     \u001b[0;32mreturn\u001b[0m \u001b[0mnumerator\u001b[0m \u001b[0;34m/\u001b[0m \u001b[0mdenominator\u001b[0m\u001b[0;34m\u001b[0m\u001b[0m\n\u001b[0m",
      "\u001b[0;31mZeroDivisionError\u001b[0m: float division by zero"
     ]
    }
   ],
   "source": [
    "denominators = [1.0, 0.0, 3.0, 5.0]\n",
    "for denominator in denominators:\n",
    "    print(divide(4.0, denominator))"
   ]
  },
  {
   "cell_type": "markdown",
   "metadata": {},
   "source": [
    "There are three sensible results, but we only get the first."
   ]
  },
  {
   "cell_type": "markdown",
   "metadata": {
    "collapsed": true
   },
   "source": [
    "There are many more complex, real cases where it's not obvious that we're doing something wrong ahead of time. In this case, we want to be able to *try* running the code and *catch* errors without stopping the code. This can be done in python:"
   ]
  },
  {
   "cell_type": "code",
   "execution_count": 7,
   "metadata": {
    "collapsed": false
   },
   "outputs": [
    {
     "name": "stdout",
     "output_type": "stream",
     "text": [
      "Dividing by zero is a silly thing to do!\n"
     ]
    }
   ],
   "source": [
    "try:\n",
    "    print(divide(4.0, 0.0))\n",
    "except ZeroDivisionError:\n",
    "    print(\"Dividing by zero is a silly thing to do!\")"
   ]
  },
  {
   "cell_type": "code",
   "execution_count": 8,
   "metadata": {
    "collapsed": false
   },
   "outputs": [
    {
     "name": "stdout",
     "output_type": "stream",
     "text": [
      "4.0\n",
      "Dividing by zero is a silly thing to do!\n",
      "1.33333333333\n",
      "0.8\n"
     ]
    }
   ],
   "source": [
    "denominators = [1.0, 0.0, 3.0, 5.0]\n",
    "for denominator in denominators:\n",
    "    try:\n",
    "        print(divide(4.0, denominator))\n",
    "    except ZeroDivisionError:\n",
    "        print(\"Dividing by zero is a silly thing to do!\")"
   ]
  },
  {
   "cell_type": "markdown",
   "metadata": {},
   "source": [
    "The idea here is given by the names. Python will *try* to execute the code inside the `try` block. This is just like an `if` or a `for` block: each command that is indented in that block will be executed in order.\n",
    "\n",
    "If, and only if, an error arises then the `except` block will be checked. If the error that is produced matches the one listed then instead of stopping, the code inside the `except` block will be run instead.\n",
    "\n",
    "To show how this works with different errors, consider a different silly error:"
   ]
  },
  {
   "cell_type": "code",
   "execution_count": 9,
   "metadata": {
    "collapsed": false
   },
   "outputs": [
    {
     "ename": "TypeError",
     "evalue": "unsupported operand type(s) for /: 'float' and 'str'",
     "output_type": "error",
     "traceback": [
      "\u001b[0;31m---------------------------------------------------------------------------\u001b[0m",
      "\u001b[0;31mTypeError\u001b[0m                                 Traceback (most recent call last)",
      "\u001b[0;32m<ipython-input-9-220d79bf294a>\u001b[0m in \u001b[0;36m<module>\u001b[0;34m()\u001b[0m\n\u001b[1;32m      1\u001b[0m \u001b[0;32mtry\u001b[0m\u001b[0;34m:\u001b[0m\u001b[0;34m\u001b[0m\u001b[0m\n\u001b[0;32m----> 2\u001b[0;31m     \u001b[0;32mprint\u001b[0m\u001b[0;34m(\u001b[0m\u001b[0mdivide\u001b[0m\u001b[0;34m(\u001b[0m\u001b[0;36m4.0\u001b[0m\u001b[0;34m,\u001b[0m \u001b[0;34m\"zero\"\u001b[0m\u001b[0;34m)\u001b[0m\u001b[0;34m)\u001b[0m\u001b[0;34m\u001b[0m\u001b[0m\n\u001b[0m\u001b[1;32m      3\u001b[0m \u001b[0;32mexcept\u001b[0m \u001b[0mZeroDivisionError\u001b[0m\u001b[0;34m:\u001b[0m\u001b[0;34m\u001b[0m\u001b[0m\n\u001b[1;32m      4\u001b[0m     \u001b[0;32mprint\u001b[0m\u001b[0;34m(\u001b[0m\u001b[0;34m\"Dividing by zero is a silly thing to do!\"\u001b[0m\u001b[0;34m)\u001b[0m\u001b[0;34m\u001b[0m\u001b[0m\n",
      "\u001b[0;32m<ipython-input-2-f5b027ed84cf>\u001b[0m in \u001b[0;36mdivide\u001b[0;34m(numerator, denominator)\u001b[0m\n\u001b[1;32m     17\u001b[0m         \u001b[0mnumerator\u001b[0m \u001b[0;34m/\u001b[0m \u001b[0mdenominator\u001b[0m\u001b[0;34m\u001b[0m\u001b[0m\n\u001b[1;32m     18\u001b[0m     \"\"\"\n\u001b[0;32m---> 19\u001b[0;31m     \u001b[0;32mreturn\u001b[0m \u001b[0mnumerator\u001b[0m \u001b[0;34m/\u001b[0m \u001b[0mdenominator\u001b[0m\u001b[0;34m\u001b[0m\u001b[0m\n\u001b[0m",
      "\u001b[0;31mTypeError\u001b[0m: unsupported operand type(s) for /: 'float' and 'str'"
     ]
    }
   ],
   "source": [
    "try:\n",
    "    print(divide(4.0, \"zero\"))\n",
    "except ZeroDivisionError:\n",
    "    print(\"Dividing by zero is a silly thing to do!\")"
   ]
  },
  {
   "cell_type": "markdown",
   "metadata": {},
   "source": [
    "We see that, as it makes no sense to divide by a string, we get a `TypeError` instead of a `ZeroDivisionError`. We could catch both errors:"
   ]
  },
  {
   "cell_type": "code",
   "execution_count": 10,
   "metadata": {
    "collapsed": false
   },
   "outputs": [
    {
     "name": "stdout",
     "output_type": "stream",
     "text": [
      "Dividing by a string is a silly thing to do!\n"
     ]
    }
   ],
   "source": [
    "try:\n",
    "    print(divide(4.0, \"zero\"))\n",
    "except ZeroDivisionError:\n",
    "    print(\"Dividing by zero is a silly thing to do!\")\n",
    "except TypeError:\n",
    "    print(\"Dividing by a string is a silly thing to do!\")"
   ]
  },
  {
   "cell_type": "markdown",
   "metadata": {},
   "source": [
    "We could catch *any* error:"
   ]
  },
  {
   "cell_type": "code",
   "execution_count": 11,
   "metadata": {
    "collapsed": false
   },
   "outputs": [
    {
     "name": "stdout",
     "output_type": "stream",
     "text": [
      "Some error occured\n"
     ]
    }
   ],
   "source": [
    "try:\n",
    "    print(divide(4.0, \"zero\"))\n",
    "except:\n",
    "    print(\"Some error occured\")"
   ]
  },
  {
   "cell_type": "markdown",
   "metadata": {},
   "source": [
    "This doesn't give us much information, and may lose information that we need in order to handle the error. We can capture the exception to a variable, and then use that variable:"
   ]
  },
  {
   "cell_type": "code",
   "execution_count": 12,
   "metadata": {
    "collapsed": false
   },
   "outputs": [
    {
     "name": "stdout",
     "output_type": "stream",
     "text": [
      "Some error occured: unsupported operand type(s) for /: 'float' and 'str'\n"
     ]
    }
   ],
   "source": [
    "try:\n",
    "    print(divide(4.0, \"zero\"))\n",
    "except (ZeroDivisionError, TypeError) as exception:\n",
    "    print(\"Some error occured: {}\".format(exception))"
   ]
  },
  {
   "cell_type": "markdown",
   "metadata": {},
   "source": [
    "Here we have caught two possible types of error within the tuple (which *must*, in this case, have parantheses) and captured the specific error in the variable `exception`. This variable can then be used: here we just print it out."
   ]
  },
  {
   "cell_type": "markdown",
   "metadata": {},
   "source": [
    "Normally best practise is to be as specific as possible on the error you are trying to catch."
   ]
  },
  {
   "cell_type": "markdown",
   "metadata": {},
   "source": [
    "## Extending the logic"
   ]
  },
  {
   "cell_type": "markdown",
   "metadata": {},
   "source": [
    "Sometimes you may want to perform an action *only* if an error did not occur. For example, let's suppose we wanted to store the result of dividing 4 by a divisor, and also store the divisor, but *only* if the divisor is valid.\n",
    "\n",
    "One way of doing this would be the following:"
   ]
  },
  {
   "cell_type": "code",
   "execution_count": 13,
   "metadata": {
    "collapsed": false
   },
   "outputs": [
    {
     "name": "stdout",
     "output_type": "stream",
     "text": [
      "Error of type float division by zero for denominator 0.0\n",
      "Error of type unsupported operand type(s) for /: 'float' and 'str' for denominator zero\n",
      "[4.0, 1.3333333333333333, 0.8]\n",
      "[1.0, 3.0, 5.0]\n"
     ]
    }
   ],
   "source": [
    "denominators = [1.0, 0.0, 3.0, \"zero\", 5.0]\n",
    "results = []\n",
    "divisors = []\n",
    "for denominator in denominators:\n",
    "    try:\n",
    "        result = divide(4.0, denominator)\n",
    "    except (ZeroDivisionError, TypeError) as exception:\n",
    "        print(\"Error of type {} for denominator {}\".format(exception, denominator))\n",
    "    else:\n",
    "        results.append(result)\n",
    "        divisors.append(denominator)\n",
    "print(results)\n",
    "print(divisors)"
   ]
  },
  {
   "cell_type": "markdown",
   "metadata": {},
   "source": [
    "The statements in the `else` block are only run if the `try` block succeeds. If it doesn't - if the statements in the `try` block raise an exception - then the statements in the `else` block are not run."
   ]
  },
  {
   "cell_type": "markdown",
   "metadata": {},
   "source": [
    "## Exceptions in your own code"
   ]
  },
  {
   "cell_type": "markdown",
   "metadata": {},
   "source": [
    "Sometimes you don't want to wait for the code to break at a low level, but instead stop when you know things are going to go wrong. This is usually because you can be more informative about what's going wrong. Here's a slightly artificial example:"
   ]
  },
  {
   "cell_type": "code",
   "execution_count": 14,
   "metadata": {
    "collapsed": true
   },
   "outputs": [],
   "source": [
    "def divide_sum(numerator, denominator1, denominator2):\n",
    "    \"\"\"\n",
    "    Divide a number by a sum.\n",
    "    \n",
    "    Parameters\n",
    "    ----------\n",
    "    \n",
    "    numerator: float\n",
    "        numerator\n",
    "    denominator1: float\n",
    "        Part of the denominator\n",
    "    denominator2: float\n",
    "        Part of the denominator\n",
    "        \n",
    "    Returns\n",
    "    -------\n",
    "    \n",
    "    fraction: float\n",
    "        numerator / (denominator1 + denominator2)\n",
    "    \"\"\"\n",
    "    \n",
    "    return numerator / (denominator1 + denominator2)"
   ]
  },
  {
   "cell_type": "code",
   "execution_count": 15,
   "metadata": {
    "collapsed": false
   },
   "outputs": [
    {
     "ename": "ZeroDivisionError",
     "evalue": "division by zero",
     "output_type": "error",
     "traceback": [
      "\u001b[0;31m---------------------------------------------------------------------------\u001b[0m",
      "\u001b[0;31mZeroDivisionError\u001b[0m                         Traceback (most recent call last)",
      "\u001b[0;32m<ipython-input-15-a77bb3466659>\u001b[0m in \u001b[0;36m<module>\u001b[0;34m()\u001b[0m\n\u001b[0;32m----> 1\u001b[0;31m \u001b[0mdivide_sum\u001b[0m\u001b[0;34m(\u001b[0m\u001b[0;36m1\u001b[0m\u001b[0;34m,\u001b[0m \u001b[0;36m1\u001b[0m\u001b[0;34m,\u001b[0m \u001b[0;34m-\u001b[0m\u001b[0;36m1\u001b[0m\u001b[0;34m)\u001b[0m\u001b[0;34m\u001b[0m\u001b[0m\n\u001b[0m",
      "\u001b[0;32m<ipython-input-14-0b7e8c50456d>\u001b[0m in \u001b[0;36mdivide_sum\u001b[0;34m(numerator, denominator1, denominator2)\u001b[0m\n\u001b[1;32m     20\u001b[0m     \"\"\"\n\u001b[1;32m     21\u001b[0m \u001b[0;34m\u001b[0m\u001b[0m\n\u001b[0;32m---> 22\u001b[0;31m     \u001b[0;32mreturn\u001b[0m \u001b[0mnumerator\u001b[0m \u001b[0;34m/\u001b[0m \u001b[0;34m(\u001b[0m\u001b[0mdenominator1\u001b[0m \u001b[0;34m+\u001b[0m \u001b[0mdenominator2\u001b[0m\u001b[0;34m)\u001b[0m\u001b[0;34m\u001b[0m\u001b[0m\n\u001b[0m",
      "\u001b[0;31mZeroDivisionError\u001b[0m: division by zero"
     ]
    }
   ],
   "source": [
    "divide_sum(1, 1, -1)"
   ]
  },
  {
   "cell_type": "markdown",
   "metadata": {},
   "source": [
    "It should be obvious to the code that this is going to go wrong. Rather than letting the code hit the `ZeroDivisionError` exception automatically, we can *raise* it ourselves, with a more meaningful error message:"
   ]
  },
  {
   "cell_type": "code",
   "execution_count": 16,
   "metadata": {
    "collapsed": true
   },
   "outputs": [],
   "source": [
    "def divide_sum(numerator, denominator1, denominator2):\n",
    "    \"\"\"\n",
    "    Divide a number by a sum.\n",
    "    \n",
    "    Parameters\n",
    "    ----------\n",
    "    \n",
    "    numerator: float\n",
    "        numerator\n",
    "    denominator1: float\n",
    "        Part of the denominator\n",
    "    denominator2: float\n",
    "        Part of the denominator\n",
    "        \n",
    "    Returns\n",
    "    -------\n",
    "    \n",
    "    fraction: float\n",
    "        numerator / (denominator1 + denominator2)\n",
    "    \"\"\"\n",
    "    \n",
    "    if (denominator1 + denominator2) == 0:\n",
    "        raise ZeroDivisionError(\"The sum of denominator1 and denominator 2 is zero!\")\n",
    "    \n",
    "    return numerator / (denominator1 + denominator2)"
   ]
  },
  {
   "cell_type": "code",
   "execution_count": 17,
   "metadata": {
    "collapsed": false
   },
   "outputs": [
    {
     "ename": "ZeroDivisionError",
     "evalue": "The sum of denominator1 and denominator 2 is zero!",
     "output_type": "error",
     "traceback": [
      "\u001b[0;31m---------------------------------------------------------------------------\u001b[0m",
      "\u001b[0;31mZeroDivisionError\u001b[0m                         Traceback (most recent call last)",
      "\u001b[0;32m<ipython-input-17-a77bb3466659>\u001b[0m in \u001b[0;36m<module>\u001b[0;34m()\u001b[0m\n\u001b[0;32m----> 1\u001b[0;31m \u001b[0mdivide_sum\u001b[0m\u001b[0;34m(\u001b[0m\u001b[0;36m1\u001b[0m\u001b[0;34m,\u001b[0m \u001b[0;36m1\u001b[0m\u001b[0;34m,\u001b[0m \u001b[0;34m-\u001b[0m\u001b[0;36m1\u001b[0m\u001b[0;34m)\u001b[0m\u001b[0;34m\u001b[0m\u001b[0m\n\u001b[0m",
      "\u001b[0;32m<ipython-input-16-ac969401cd4b>\u001b[0m in \u001b[0;36mdivide_sum\u001b[0;34m(numerator, denominator1, denominator2)\u001b[0m\n\u001b[1;32m     21\u001b[0m \u001b[0;34m\u001b[0m\u001b[0m\n\u001b[1;32m     22\u001b[0m     \u001b[0;32mif\u001b[0m \u001b[0;34m(\u001b[0m\u001b[0mdenominator1\u001b[0m \u001b[0;34m+\u001b[0m \u001b[0mdenominator2\u001b[0m\u001b[0;34m)\u001b[0m \u001b[0;34m==\u001b[0m \u001b[0;36m0\u001b[0m\u001b[0;34m:\u001b[0m\u001b[0;34m\u001b[0m\u001b[0m\n\u001b[0;32m---> 23\u001b[0;31m         \u001b[0;32mraise\u001b[0m \u001b[0mZeroDivisionError\u001b[0m\u001b[0;34m(\u001b[0m\u001b[0;34m\"The sum of denominator1 and denominator 2 is zero!\"\u001b[0m\u001b[0;34m)\u001b[0m\u001b[0;34m\u001b[0m\u001b[0m\n\u001b[0m\u001b[1;32m     24\u001b[0m \u001b[0;34m\u001b[0m\u001b[0m\n\u001b[1;32m     25\u001b[0m     \u001b[0;32mreturn\u001b[0m \u001b[0mnumerator\u001b[0m \u001b[0;34m/\u001b[0m \u001b[0;34m(\u001b[0m\u001b[0mdenominator1\u001b[0m \u001b[0;34m+\u001b[0m \u001b[0mdenominator2\u001b[0m\u001b[0;34m)\u001b[0m\u001b[0;34m\u001b[0m\u001b[0m\n",
      "\u001b[0;31mZeroDivisionError\u001b[0m: The sum of denominator1 and denominator 2 is zero!"
     ]
    }
   ],
   "source": [
    "divide_sum(1, 1, -1)"
   ]
  },
  {
   "cell_type": "markdown",
   "metadata": {},
   "source": [
    "There are [a large number of standard exceptions](https://docs.python.org/2/library/exceptions.html) in python, and most of the time you should use one of those, combined with a meaningful error message. One is particularly useful: `NotImplementedError`.\n",
    "\n",
    "This exception is used when the behaviour the code is about to attempt makes no sense, is not defined, or similar. For example, consider computing the roots of the quadratic equation, but restricting to only real solutions. Using the standard formula\n",
    "\\begin{equation}\n",
    "  x_{\\pm} = \\frac{-b \\pm \\sqrt{b^2 - 4ac}}{2a}\n",
    "\\end{equation}\n",
    "we know that this only makes sense if $b^2 \\ge 4ac$. We put this in code as:"
   ]
  },
  {
   "cell_type": "code",
   "execution_count": 18,
   "metadata": {
    "collapsed": true
   },
   "outputs": [],
   "source": [
    "def real_quadratic_roots(a, b, c):\n",
    "    \"\"\"\n",
    "    Find the real roots of the quadratic equation a x^2 + b x + c = 0, if they exist.\n",
    "    \n",
    "    Parameters\n",
    "    ----------\n",
    "    \n",
    "    a : float\n",
    "        Coefficient of x^2\n",
    "    b : float\n",
    "        Coefficient of x^1\n",
    "    c : float\n",
    "        Coefficient of x^0\n",
    "        \n",
    "    Returns\n",
    "    -------\n",
    "    \n",
    "    roots : tuple\n",
    "        The roots\n",
    "        \n",
    "    Raises\n",
    "    ------\n",
    "    \n",
    "    NotImplementedError\n",
    "        If the roots are not real.\n",
    "    \"\"\"\n",
    "    \n",
    "    from math import sqrt\n",
    "    \n",
    "    discriminant = b**2 - 4.0*a*c\n",
    "    if discriminant < 0.0:\n",
    "        raise NotImplementedError(\"The discriminant is {}<0. \"\n",
    "                                  \"No real roots exist.\".format(discriminant))\n",
    "    \n",
    "    x_plus = (-b + sqrt(discriminant)) / (2.0*a)\n",
    "    x_minus = (-b - sqrt(discriminant)) / (2.0*a)\n",
    "    \n",
    "    return x_plus, x_minus"
   ]
  },
  {
   "cell_type": "code",
   "execution_count": 19,
   "metadata": {
    "collapsed": false
   },
   "outputs": [
    {
     "name": "stdout",
     "output_type": "stream",
     "text": [
      "(-2.0, -3.0)\n"
     ]
    }
   ],
   "source": [
    "print(real_quadratic_roots(1.0, 5.0, 6.0))"
   ]
  },
  {
   "cell_type": "code",
   "execution_count": 20,
   "metadata": {
    "collapsed": false
   },
   "outputs": [
    {
     "ename": "NotImplementedError",
     "evalue": "The discriminant is -19.0<0. No real roots exist.",
     "output_type": "error",
     "traceback": [
      "\u001b[0;31m---------------------------------------------------------------------------\u001b[0m",
      "\u001b[0;31mNotImplementedError\u001b[0m                       Traceback (most recent call last)",
      "\u001b[0;32m<ipython-input-20-0fda03c09b58>\u001b[0m in \u001b[0;36m<module>\u001b[0;34m()\u001b[0m\n\u001b[0;32m----> 1\u001b[0;31m \u001b[0mreal_quadratic_roots\u001b[0m\u001b[0;34m(\u001b[0m\u001b[0;36m1.0\u001b[0m\u001b[0;34m,\u001b[0m \u001b[0;36m1.0\u001b[0m\u001b[0;34m,\u001b[0m \u001b[0;36m5.0\u001b[0m\u001b[0;34m)\u001b[0m\u001b[0;34m\u001b[0m\u001b[0m\n\u001b[0m",
      "\u001b[0;32m<ipython-input-18-aafcb2d41b21>\u001b[0m in \u001b[0;36mreal_quadratic_roots\u001b[0;34m(a, b, c)\u001b[0m\n\u001b[1;32m     31\u001b[0m     \u001b[0;32mif\u001b[0m \u001b[0mdiscriminant\u001b[0m \u001b[0;34m<\u001b[0m \u001b[0;36m0.0\u001b[0m\u001b[0;34m:\u001b[0m\u001b[0;34m\u001b[0m\u001b[0m\n\u001b[1;32m     32\u001b[0m         raise NotImplementedError(\"The discriminant is {}<0. \"\n\u001b[0;32m---> 33\u001b[0;31m                                   \"No real roots exist.\".format(discriminant))\n\u001b[0m\u001b[1;32m     34\u001b[0m \u001b[0;34m\u001b[0m\u001b[0m\n\u001b[1;32m     35\u001b[0m     \u001b[0mx_plus\u001b[0m \u001b[0;34m=\u001b[0m \u001b[0;34m(\u001b[0m\u001b[0;34m-\u001b[0m\u001b[0mb\u001b[0m \u001b[0;34m+\u001b[0m \u001b[0msqrt\u001b[0m\u001b[0;34m(\u001b[0m\u001b[0mdiscriminant\u001b[0m\u001b[0;34m)\u001b[0m\u001b[0;34m)\u001b[0m \u001b[0;34m/\u001b[0m \u001b[0;34m(\u001b[0m\u001b[0;36m2.0\u001b[0m\u001b[0;34m*\u001b[0m\u001b[0ma\u001b[0m\u001b[0;34m)\u001b[0m\u001b[0;34m\u001b[0m\u001b[0m\n",
      "\u001b[0;31mNotImplementedError\u001b[0m: The discriminant is -19.0<0. No real roots exist."
     ]
    }
   ],
   "source": [
    "real_quadratic_roots(1.0, 1.0, 5.0)"
   ]
  },
  {
   "cell_type": "markdown",
   "metadata": {},
   "source": [
    "# Testing"
   ]
  },
  {
   "cell_type": "markdown",
   "metadata": {},
   "source": [
    "How do we know if our code is working correctly? It is not when the code runs and returns some value: as seen above, there may be times where it makes sense to stop the code even when it is correct, as it is being used incorrectly. We need to test the code to check that it works.\n",
    "\n",
    "*Unit testing* is the idea of writing many small tests that check if simple cases are behaving correctly. Rather than trying to *prove* that the code is correct in all cases (which could be very hard), we check that it is correct in a number of tightly controlled cases (which should be more straightforward). If we later find a problem with the code, we add a test to cover that case.\n",
    "\n",
    "Consider a function solving for the real roots of the quadratic equation again. This time, if there are no real roots we shall return `None` (to say there are no roots) instead of raising an exception."
   ]
  },
  {
   "cell_type": "code",
   "execution_count": 21,
   "metadata": {
    "collapsed": true
   },
   "outputs": [],
   "source": [
    "def real_quadratic_roots(a, b, c):\n",
    "    \"\"\"\n",
    "    Find the real roots of the quadratic equation a x^2 + b x + c = 0, if they exist.\n",
    "    \n",
    "    Parameters\n",
    "    ----------\n",
    "    \n",
    "    a : float\n",
    "        Coefficient of x^2\n",
    "    b : float\n",
    "        Coefficient of x^1\n",
    "    c : float\n",
    "        Coefficient of x^0\n",
    "        \n",
    "    Returns\n",
    "    -------\n",
    "    \n",
    "    roots : tuple or None\n",
    "        The roots\n",
    "    \"\"\"\n",
    "    \n",
    "    from math import sqrt\n",
    "    \n",
    "    discriminant = b**2 - 4.0*a*c\n",
    "    if discriminant < 0.0:\n",
    "        return None\n",
    "    \n",
    "    x_plus = (-b + sqrt(discriminant)) / (2.0*a)\n",
    "    x_minus = (-b + sqrt(discriminant)) / (2.0*a)\n",
    "    \n",
    "    return x_plus, x_minus"
   ]
  },
  {
   "cell_type": "markdown",
   "metadata": {},
   "source": [
    "First we check what happens if there are imaginary roots, using $x^2 + 1 = 0$:"
   ]
  },
  {
   "cell_type": "code",
   "execution_count": 22,
   "metadata": {
    "collapsed": false
   },
   "outputs": [
    {
     "name": "stdout",
     "output_type": "stream",
     "text": [
      "None\n"
     ]
    }
   ],
   "source": [
    "print(real_quadratic_roots(1, 0, 1))"
   ]
  },
  {
   "cell_type": "markdown",
   "metadata": {},
   "source": [
    "As we wanted, it has returned `None`. We also check what happens if the roots are zero, using $x^2 = 0$:"
   ]
  },
  {
   "cell_type": "code",
   "execution_count": 23,
   "metadata": {
    "collapsed": false
   },
   "outputs": [
    {
     "name": "stdout",
     "output_type": "stream",
     "text": [
      "(0.0, 0.0)\n"
     ]
    }
   ],
   "source": [
    "print(real_quadratic_roots(1, 0, 0))"
   ]
  },
  {
   "cell_type": "markdown",
   "metadata": {},
   "source": [
    "We get the expected behaviour. We also check what happens if the roots are real, using $x^2 - 1 = 0$ which has roots $\\pm 1$:"
   ]
  },
  {
   "cell_type": "code",
   "execution_count": 24,
   "metadata": {
    "collapsed": false
   },
   "outputs": [
    {
     "name": "stdout",
     "output_type": "stream",
     "text": [
      "(1.0, 1.0)\n"
     ]
    }
   ],
   "source": [
    "print(real_quadratic_roots(1, 0, -1))"
   ]
  },
  {
   "cell_type": "markdown",
   "metadata": {},
   "source": [
    "Something has gone wrong. Looking at the code, we see that the `x_minus` line has been copied and pasted from the `x_plus` line, without changing the sign correctly. So we fix that error:"
   ]
  },
  {
   "cell_type": "code",
   "execution_count": 25,
   "metadata": {
    "collapsed": true
   },
   "outputs": [],
   "source": [
    "def real_quadratic_roots(a, b, c):\n",
    "    \"\"\"\n",
    "    Find the real roots of the quadratic equation a x^2 + b x + c = 0, if they exist.\n",
    "    \n",
    "    Parameters\n",
    "    ----------\n",
    "    \n",
    "    a : float\n",
    "        Coefficient of x^2\n",
    "    b : float\n",
    "        Coefficient of x^1\n",
    "    c : float\n",
    "        Coefficient of x^0\n",
    "        \n",
    "    Returns\n",
    "    -------\n",
    "    \n",
    "    roots : tuple or None\n",
    "        The roots\n",
    "    \"\"\"\n",
    "    \n",
    "    from math import sqrt\n",
    "    \n",
    "    discriminant = b**2 - 4.0*a*c\n",
    "    if discriminant < 0.0:\n",
    "        return None\n",
    "    \n",
    "    x_plus = (-b + sqrt(discriminant)) / (2.0*a)\n",
    "    x_minus = (-b - sqrt(discriminant)) / (2.0*a)\n",
    "    \n",
    "    return x_plus, x_minus"
   ]
  },
  {
   "cell_type": "markdown",
   "metadata": {},
   "source": [
    "We have changed the code, so now have to re-run *all* our tests, in case our change broke something else:"
   ]
  },
  {
   "cell_type": "code",
   "execution_count": 26,
   "metadata": {
    "collapsed": false
   },
   "outputs": [
    {
     "name": "stdout",
     "output_type": "stream",
     "text": [
      "None\n",
      "(0.0, 0.0)\n",
      "(1.0, -1.0)\n"
     ]
    }
   ],
   "source": [
    "print(real_quadratic_roots(1, 0, 1))\n",
    "print(real_quadratic_roots(1, 0, 0))\n",
    "print(real_quadratic_roots(1, 0, -1))"
   ]
  },
  {
   "cell_type": "markdown",
   "metadata": {},
   "source": [
    "As a final test, we check what happens if the equation degenerates to a linear equation where $a=0$, using $x + 1 = 0$ with solution $-1$:"
   ]
  },
  {
   "cell_type": "code",
   "execution_count": 27,
   "metadata": {
    "collapsed": false
   },
   "outputs": [
    {
     "ename": "ZeroDivisionError",
     "evalue": "float division by zero",
     "output_type": "error",
     "traceback": [
      "\u001b[0;31m---------------------------------------------------------------------------\u001b[0m",
      "\u001b[0;31mZeroDivisionError\u001b[0m                         Traceback (most recent call last)",
      "\u001b[0;32m<ipython-input-27-e790de2bb87e>\u001b[0m in \u001b[0;36m<module>\u001b[0;34m()\u001b[0m\n\u001b[0;32m----> 1\u001b[0;31m \u001b[0;32mprint\u001b[0m\u001b[0;34m(\u001b[0m\u001b[0mreal_quadratic_roots\u001b[0m\u001b[0;34m(\u001b[0m\u001b[0;36m0\u001b[0m\u001b[0;34m,\u001b[0m \u001b[0;36m1\u001b[0m\u001b[0;34m,\u001b[0m \u001b[0;36m1\u001b[0m\u001b[0;34m)\u001b[0m\u001b[0;34m)\u001b[0m\u001b[0;34m\u001b[0m\u001b[0m\n\u001b[0m",
      "\u001b[0;32m<ipython-input-25-337a295f8811>\u001b[0m in \u001b[0;36mreal_quadratic_roots\u001b[0;34m(a, b, c)\u001b[0m\n\u001b[1;32m     26\u001b[0m         \u001b[0;32mreturn\u001b[0m \u001b[0mNone\u001b[0m\u001b[0;34m\u001b[0m\u001b[0m\n\u001b[1;32m     27\u001b[0m \u001b[0;34m\u001b[0m\u001b[0m\n\u001b[0;32m---> 28\u001b[0;31m     \u001b[0mx_plus\u001b[0m \u001b[0;34m=\u001b[0m \u001b[0;34m(\u001b[0m\u001b[0;34m-\u001b[0m\u001b[0mb\u001b[0m \u001b[0;34m+\u001b[0m \u001b[0msqrt\u001b[0m\u001b[0;34m(\u001b[0m\u001b[0mdiscriminant\u001b[0m\u001b[0;34m)\u001b[0m\u001b[0;34m)\u001b[0m \u001b[0;34m/\u001b[0m \u001b[0;34m(\u001b[0m\u001b[0;36m2.0\u001b[0m\u001b[0;34m*\u001b[0m\u001b[0ma\u001b[0m\u001b[0;34m)\u001b[0m\u001b[0;34m\u001b[0m\u001b[0m\n\u001b[0m\u001b[1;32m     29\u001b[0m     \u001b[0mx_minus\u001b[0m \u001b[0;34m=\u001b[0m \u001b[0;34m(\u001b[0m\u001b[0;34m-\u001b[0m\u001b[0mb\u001b[0m \u001b[0;34m-\u001b[0m \u001b[0msqrt\u001b[0m\u001b[0;34m(\u001b[0m\u001b[0mdiscriminant\u001b[0m\u001b[0;34m)\u001b[0m\u001b[0;34m)\u001b[0m \u001b[0;34m/\u001b[0m \u001b[0;34m(\u001b[0m\u001b[0;36m2.0\u001b[0m\u001b[0;34m*\u001b[0m\u001b[0ma\u001b[0m\u001b[0;34m)\u001b[0m\u001b[0;34m\u001b[0m\u001b[0m\n\u001b[1;32m     30\u001b[0m \u001b[0;34m\u001b[0m\u001b[0m\n",
      "\u001b[0;31mZeroDivisionError\u001b[0m: float division by zero"
     ]
    }
   ],
   "source": [
    "print(real_quadratic_roots(0, 1, 1))"
   ]
  },
  {
   "cell_type": "markdown",
   "metadata": {},
   "source": [
    "In this case we get an exception, which we don't want. We fix this problem:"
   ]
  },
  {
   "cell_type": "code",
   "execution_count": 28,
   "metadata": {
    "collapsed": true
   },
   "outputs": [],
   "source": [
    "def real_quadratic_roots(a, b, c):\n",
    "    \"\"\"\n",
    "    Find the real roots of the quadratic equation a x^2 + b x + c = 0, if they exist.\n",
    "    \n",
    "    Parameters\n",
    "    ----------\n",
    "    \n",
    "    a : float\n",
    "        Coefficient of x^2\n",
    "    b : float\n",
    "        Coefficient of x^1\n",
    "    c : float\n",
    "        Coefficient of x^0\n",
    "        \n",
    "    Returns\n",
    "    -------\n",
    "    \n",
    "    roots : tuple or float or None\n",
    "        The root(s) (two if a genuine quadratic, one if linear, None otherwise)\n",
    "        \n",
    "    Raises\n",
    "    ------\n",
    "    \n",
    "    NotImplementedError\n",
    "        If the equation has trivial a and b coefficients, so isn't solvable.\n",
    "    \"\"\"\n",
    "    \n",
    "    from math import sqrt\n",
    "    \n",
    "    discriminant = b**2 - 4.0*a*c\n",
    "    if discriminant < 0.0:\n",
    "        return None\n",
    "    \n",
    "    if a == 0:\n",
    "        if b == 0:\n",
    "            raise NotImplementedError(\"Cannot solve quadratic with both a\"\n",
    "                                      \" and b coefficients equal to 0.\")\n",
    "        else:\n",
    "            return -c / b\n",
    "    \n",
    "    x_plus = (-b + sqrt(discriminant)) / (2.0*a)\n",
    "    x_minus = (-b - sqrt(discriminant)) / (2.0*a)\n",
    "    \n",
    "    return x_plus, x_minus"
   ]
  },
  {
   "cell_type": "markdown",
   "metadata": {},
   "source": [
    "And we now must re-run all our tests again, as the code has changed once more:"
   ]
  },
  {
   "cell_type": "code",
   "execution_count": 29,
   "metadata": {
    "collapsed": false
   },
   "outputs": [
    {
     "name": "stdout",
     "output_type": "stream",
     "text": [
      "None\n",
      "(0.0, 0.0)\n",
      "(1.0, -1.0)\n",
      "-1.0\n"
     ]
    }
   ],
   "source": [
    "print(real_quadratic_roots(1, 0, 1))\n",
    "print(real_quadratic_roots(1, 0, 0))\n",
    "print(real_quadratic_roots(1, 0, -1))\n",
    "print(real_quadratic_roots(0, 1, 1))"
   ]
  },
  {
   "cell_type": "markdown",
   "metadata": {},
   "source": [
    "## Formalizing tests"
   ]
  },
  {
   "cell_type": "markdown",
   "metadata": {},
   "source": [
    "This small set of tests covers most of the cases we are concerned with. However, by this point it's getting hard to remember\n",
    "\n",
    "1. what each line is actually testing, and\n",
    "2. what the correct value is meant to be.\n",
    "\n",
    "To formalize this, we write each test as a small function that contains this information for us. Let's start with the $x^2 - 1 = 0$ case where the roots are $\\pm 1$:"
   ]
  },
  {
   "cell_type": "code",
   "execution_count": 30,
   "metadata": {
    "collapsed": true
   },
   "outputs": [],
   "source": [
    "from numpy.testing import assert_equal, assert_allclose\n",
    "\n",
    "def test_real_distinct():\n",
    "    \"\"\"\n",
    "    Test that the roots of x^2 - 1 = 0 are \\pm 1.\n",
    "    \"\"\"\n",
    "    \n",
    "    roots = (1.0, -1.0)\n",
    "    assert_equal(real_quadratic_roots(1, 0, -1), roots,\n",
    "                 err_msg=\"Testing x^2-1=0; roots should be 1 and -1.\")"
   ]
  },
  {
   "cell_type": "code",
   "execution_count": 31,
   "metadata": {
    "collapsed": false
   },
   "outputs": [],
   "source": [
    "test_real_distinct()"
   ]
  },
  {
   "cell_type": "markdown",
   "metadata": {},
   "source": [
    "What this function does is checks that the results of the function call match the expected value, here stored in `roots`. If it didn't match the expected value, it would raise an exception:"
   ]
  },
  {
   "cell_type": "code",
   "execution_count": 32,
   "metadata": {
    "collapsed": false
   },
   "outputs": [
    {
     "ename": "AssertionError",
     "evalue": "\nItems are not equal:\nitem=1\nTesting x^2-1=0; roots should be 1 and 1. So this test should fail\n ACTUAL: -1.0\n DESIRED: 1.0",
     "output_type": "error",
     "traceback": [
      "\u001b[0;31m---------------------------------------------------------------------------\u001b[0m",
      "\u001b[0;31mAssertionError\u001b[0m                            Traceback (most recent call last)",
      "\u001b[0;32m<ipython-input-32-ccb1cf91e65e>\u001b[0m in \u001b[0;36m<module>\u001b[0;34m()\u001b[0m\n\u001b[1;32m      9\u001b[0m                  \" So this test should fail\")\n\u001b[1;32m     10\u001b[0m \u001b[0;34m\u001b[0m\u001b[0m\n\u001b[0;32m---> 11\u001b[0;31m \u001b[0mtest_should_fail\u001b[0m\u001b[0;34m(\u001b[0m\u001b[0;34m)\u001b[0m\u001b[0;34m\u001b[0m\u001b[0m\n\u001b[0m",
      "\u001b[0;32m<ipython-input-32-ccb1cf91e65e>\u001b[0m in \u001b[0;36mtest_should_fail\u001b[0;34m()\u001b[0m\n\u001b[1;32m      6\u001b[0m     \u001b[0mroots\u001b[0m \u001b[0;34m=\u001b[0m \u001b[0;34m(\u001b[0m\u001b[0;36m1.0\u001b[0m\u001b[0;34m,\u001b[0m \u001b[0;36m1.0\u001b[0m\u001b[0;34m)\u001b[0m\u001b[0;34m\u001b[0m\u001b[0m\n\u001b[1;32m      7\u001b[0m     assert_equal(real_quadratic_roots(1, 0, -1), roots,\n\u001b[0;32m----> 8\u001b[0;31m                  \u001b[0merr_msg\u001b[0m\u001b[0;34m=\u001b[0m\u001b[0;34m\"Testing x^2-1=0; roots should be 1 and 1.\"\u001b[0m\u001b[0;34m\u001b[0m\u001b[0m\n\u001b[0m\u001b[1;32m      9\u001b[0m                  \" So this test should fail\")\n\u001b[1;32m     10\u001b[0m \u001b[0;34m\u001b[0m\u001b[0m\n",
      "\u001b[0;32m/Users/ih3/anaconda/envs/firstyear/lib/python2.7/site-packages/numpy/testing/utils.pyc\u001b[0m in \u001b[0;36massert_equal\u001b[0;34m(actual, desired, err_msg, verbose)\u001b[0m\n\u001b[1;32m    268\u001b[0m         \u001b[0massert_equal\u001b[0m\u001b[0;34m(\u001b[0m\u001b[0mlen\u001b[0m\u001b[0;34m(\u001b[0m\u001b[0mactual\u001b[0m\u001b[0;34m)\u001b[0m\u001b[0;34m,\u001b[0m \u001b[0mlen\u001b[0m\u001b[0;34m(\u001b[0m\u001b[0mdesired\u001b[0m\u001b[0;34m)\u001b[0m\u001b[0;34m,\u001b[0m \u001b[0merr_msg\u001b[0m\u001b[0;34m,\u001b[0m \u001b[0mverbose\u001b[0m\u001b[0;34m)\u001b[0m\u001b[0;34m\u001b[0m\u001b[0m\n\u001b[1;32m    269\u001b[0m         \u001b[0;32mfor\u001b[0m \u001b[0mk\u001b[0m \u001b[0;32min\u001b[0m \u001b[0mrange\u001b[0m\u001b[0;34m(\u001b[0m\u001b[0mlen\u001b[0m\u001b[0;34m(\u001b[0m\u001b[0mdesired\u001b[0m\u001b[0;34m)\u001b[0m\u001b[0;34m)\u001b[0m\u001b[0;34m:\u001b[0m\u001b[0;34m\u001b[0m\u001b[0m\n\u001b[0;32m--> 270\u001b[0;31m             \u001b[0massert_equal\u001b[0m\u001b[0;34m(\u001b[0m\u001b[0mactual\u001b[0m\u001b[0;34m[\u001b[0m\u001b[0mk\u001b[0m\u001b[0;34m]\u001b[0m\u001b[0;34m,\u001b[0m \u001b[0mdesired\u001b[0m\u001b[0;34m[\u001b[0m\u001b[0mk\u001b[0m\u001b[0;34m]\u001b[0m\u001b[0;34m,\u001b[0m \u001b[0;34m'item=%r\\n%s'\u001b[0m \u001b[0;34m%\u001b[0m \u001b[0;34m(\u001b[0m\u001b[0mk\u001b[0m\u001b[0;34m,\u001b[0m \u001b[0merr_msg\u001b[0m\u001b[0;34m)\u001b[0m\u001b[0;34m,\u001b[0m \u001b[0mverbose\u001b[0m\u001b[0;34m)\u001b[0m\u001b[0;34m\u001b[0m\u001b[0m\n\u001b[0m\u001b[1;32m    271\u001b[0m         \u001b[0;32mreturn\u001b[0m\u001b[0;34m\u001b[0m\u001b[0m\n\u001b[1;32m    272\u001b[0m     \u001b[0;32mfrom\u001b[0m \u001b[0mnumpy\u001b[0m\u001b[0;34m.\u001b[0m\u001b[0mcore\u001b[0m \u001b[0;32mimport\u001b[0m \u001b[0mndarray\u001b[0m\u001b[0;34m,\u001b[0m \u001b[0misscalar\u001b[0m\u001b[0;34m,\u001b[0m \u001b[0msignbit\u001b[0m\u001b[0;34m\u001b[0m\u001b[0m\n",
      "\u001b[0;32m/Users/ih3/anaconda/envs/firstyear/lib/python2.7/site-packages/numpy/testing/utils.pyc\u001b[0m in \u001b[0;36massert_equal\u001b[0;34m(actual, desired, err_msg, verbose)\u001b[0m\n\u001b[1;32m    332\u001b[0m     \u001b[0;31m# Explicitly use __eq__ for comparison, ticket #2552\u001b[0m\u001b[0;34m\u001b[0m\u001b[0;34m\u001b[0m\u001b[0m\n\u001b[1;32m    333\u001b[0m     \u001b[0;32mif\u001b[0m \u001b[0;32mnot\u001b[0m \u001b[0;34m(\u001b[0m\u001b[0mdesired\u001b[0m \u001b[0;34m==\u001b[0m \u001b[0mactual\u001b[0m\u001b[0;34m)\u001b[0m\u001b[0;34m:\u001b[0m\u001b[0;34m\u001b[0m\u001b[0m\n\u001b[0;32m--> 334\u001b[0;31m         \u001b[0;32mraise\u001b[0m \u001b[0mAssertionError\u001b[0m\u001b[0;34m(\u001b[0m\u001b[0mmsg\u001b[0m\u001b[0;34m)\u001b[0m\u001b[0;34m\u001b[0m\u001b[0m\n\u001b[0m\u001b[1;32m    335\u001b[0m \u001b[0;34m\u001b[0m\u001b[0m\n\u001b[1;32m    336\u001b[0m \u001b[0;32mdef\u001b[0m \u001b[0mprint_assert_equal\u001b[0m\u001b[0;34m(\u001b[0m\u001b[0mtest_string\u001b[0m\u001b[0;34m,\u001b[0m \u001b[0mactual\u001b[0m\u001b[0;34m,\u001b[0m \u001b[0mdesired\u001b[0m\u001b[0;34m)\u001b[0m\u001b[0;34m:\u001b[0m\u001b[0;34m\u001b[0m\u001b[0m\n",
      "\u001b[0;31mAssertionError\u001b[0m: \nItems are not equal:\nitem=1\nTesting x^2-1=0; roots should be 1 and 1. So this test should fail\n ACTUAL: -1.0\n DESIRED: 1.0"
     ]
    }
   ],
   "source": [
    "def test_should_fail():\n",
    "    \"\"\"\n",
    "    Comparing the roots of x^2 - 1 = 0 to (1, 1), which should fail.\n",
    "    \"\"\"\n",
    "    \n",
    "    roots = (1.0, 1.0)\n",
    "    assert_equal(real_quadratic_roots(1, 0, -1), roots,\n",
    "                 err_msg=\"Testing x^2-1=0; roots should be 1 and 1.\"\n",
    "                 \" So this test should fail\")\n",
    "\n",
    "test_should_fail()"
   ]
  },
  {
   "cell_type": "markdown",
   "metadata": {},
   "source": [
    "Testing that one floating point number equals another can be dangerous. Consider $x^2 - 2 x + (1 - 10^{-10}) = 0$ with roots $1.1 \\pm 10^{-5} )$:"
   ]
  },
  {
   "cell_type": "code",
   "execution_count": 33,
   "metadata": {
    "collapsed": false
   },
   "outputs": [
    {
     "ename": "AssertionError",
     "evalue": "\nItems are not equal:\nitem=0\nTesting x^2-2x+(1-1e-10)=0; roots should be 1 +- 1e-5.\n ACTUAL: 1.0000100000004137\n DESIRED: 1.00001",
     "output_type": "error",
     "traceback": [
      "\u001b[0;31m---------------------------------------------------------------------------\u001b[0m",
      "\u001b[0;31mAssertionError\u001b[0m                            Traceback (most recent call last)",
      "\u001b[0;32m<ipython-input-33-e01bced6ccc9>\u001b[0m in \u001b[0;36m<module>\u001b[0;34m()\u001b[0m\n\u001b[1;32m     10\u001b[0m                  err_msg=\"Testing x^2-2x+(1-1e-10)=0; roots should be 1 +- 1e-5.\")\n\u001b[1;32m     11\u001b[0m \u001b[0;34m\u001b[0m\u001b[0m\n\u001b[0;32m---> 12\u001b[0;31m \u001b[0mtest_real_distinct_irrational\u001b[0m\u001b[0;34m(\u001b[0m\u001b[0;34m)\u001b[0m\u001b[0;34m\u001b[0m\u001b[0m\n\u001b[0m",
      "\u001b[0;32m<ipython-input-33-e01bced6ccc9>\u001b[0m in \u001b[0;36mtest_real_distinct_irrational\u001b[0;34m()\u001b[0m\n\u001b[1;32m      8\u001b[0m     \u001b[0mroots\u001b[0m \u001b[0;34m=\u001b[0m \u001b[0;34m(\u001b[0m\u001b[0;36m1\u001b[0m \u001b[0;34m+\u001b[0m \u001b[0;36m1e-5\u001b[0m\u001b[0;34m,\u001b[0m \u001b[0;36m1\u001b[0m \u001b[0;34m-\u001b[0m \u001b[0;36m1e-5\u001b[0m\u001b[0;34m)\u001b[0m\u001b[0;34m\u001b[0m\u001b[0m\n\u001b[1;32m      9\u001b[0m     assert_equal(real_quadratic_roots(1, -2.0, 1.0 - 1e-10), roots,\n\u001b[0;32m---> 10\u001b[0;31m                  err_msg=\"Testing x^2-2x+(1-1e-10)=0; roots should be 1 +- 1e-5.\")\n\u001b[0m\u001b[1;32m     11\u001b[0m \u001b[0;34m\u001b[0m\u001b[0m\n\u001b[1;32m     12\u001b[0m \u001b[0mtest_real_distinct_irrational\u001b[0m\u001b[0;34m(\u001b[0m\u001b[0;34m)\u001b[0m\u001b[0;34m\u001b[0m\u001b[0m\n",
      "\u001b[0;32m/Users/ih3/anaconda/envs/firstyear/lib/python2.7/site-packages/numpy/testing/utils.pyc\u001b[0m in \u001b[0;36massert_equal\u001b[0;34m(actual, desired, err_msg, verbose)\u001b[0m\n\u001b[1;32m    268\u001b[0m         \u001b[0massert_equal\u001b[0m\u001b[0;34m(\u001b[0m\u001b[0mlen\u001b[0m\u001b[0;34m(\u001b[0m\u001b[0mactual\u001b[0m\u001b[0;34m)\u001b[0m\u001b[0;34m,\u001b[0m \u001b[0mlen\u001b[0m\u001b[0;34m(\u001b[0m\u001b[0mdesired\u001b[0m\u001b[0;34m)\u001b[0m\u001b[0;34m,\u001b[0m \u001b[0merr_msg\u001b[0m\u001b[0;34m,\u001b[0m \u001b[0mverbose\u001b[0m\u001b[0;34m)\u001b[0m\u001b[0;34m\u001b[0m\u001b[0m\n\u001b[1;32m    269\u001b[0m         \u001b[0;32mfor\u001b[0m \u001b[0mk\u001b[0m \u001b[0;32min\u001b[0m \u001b[0mrange\u001b[0m\u001b[0;34m(\u001b[0m\u001b[0mlen\u001b[0m\u001b[0;34m(\u001b[0m\u001b[0mdesired\u001b[0m\u001b[0;34m)\u001b[0m\u001b[0;34m)\u001b[0m\u001b[0;34m:\u001b[0m\u001b[0;34m\u001b[0m\u001b[0m\n\u001b[0;32m--> 270\u001b[0;31m             \u001b[0massert_equal\u001b[0m\u001b[0;34m(\u001b[0m\u001b[0mactual\u001b[0m\u001b[0;34m[\u001b[0m\u001b[0mk\u001b[0m\u001b[0;34m]\u001b[0m\u001b[0;34m,\u001b[0m \u001b[0mdesired\u001b[0m\u001b[0;34m[\u001b[0m\u001b[0mk\u001b[0m\u001b[0;34m]\u001b[0m\u001b[0;34m,\u001b[0m \u001b[0;34m'item=%r\\n%s'\u001b[0m \u001b[0;34m%\u001b[0m \u001b[0;34m(\u001b[0m\u001b[0mk\u001b[0m\u001b[0;34m,\u001b[0m \u001b[0merr_msg\u001b[0m\u001b[0;34m)\u001b[0m\u001b[0;34m,\u001b[0m \u001b[0mverbose\u001b[0m\u001b[0;34m)\u001b[0m\u001b[0;34m\u001b[0m\u001b[0m\n\u001b[0m\u001b[1;32m    271\u001b[0m         \u001b[0;32mreturn\u001b[0m\u001b[0;34m\u001b[0m\u001b[0m\n\u001b[1;32m    272\u001b[0m     \u001b[0;32mfrom\u001b[0m \u001b[0mnumpy\u001b[0m\u001b[0;34m.\u001b[0m\u001b[0mcore\u001b[0m \u001b[0;32mimport\u001b[0m \u001b[0mndarray\u001b[0m\u001b[0;34m,\u001b[0m \u001b[0misscalar\u001b[0m\u001b[0;34m,\u001b[0m \u001b[0msignbit\u001b[0m\u001b[0;34m\u001b[0m\u001b[0m\n",
      "\u001b[0;32m/Users/ih3/anaconda/envs/firstyear/lib/python2.7/site-packages/numpy/testing/utils.pyc\u001b[0m in \u001b[0;36massert_equal\u001b[0;34m(actual, desired, err_msg, verbose)\u001b[0m\n\u001b[1;32m    332\u001b[0m     \u001b[0;31m# Explicitly use __eq__ for comparison, ticket #2552\u001b[0m\u001b[0;34m\u001b[0m\u001b[0;34m\u001b[0m\u001b[0m\n\u001b[1;32m    333\u001b[0m     \u001b[0;32mif\u001b[0m \u001b[0;32mnot\u001b[0m \u001b[0;34m(\u001b[0m\u001b[0mdesired\u001b[0m \u001b[0;34m==\u001b[0m \u001b[0mactual\u001b[0m\u001b[0;34m)\u001b[0m\u001b[0;34m:\u001b[0m\u001b[0;34m\u001b[0m\u001b[0m\n\u001b[0;32m--> 334\u001b[0;31m         \u001b[0;32mraise\u001b[0m \u001b[0mAssertionError\u001b[0m\u001b[0;34m(\u001b[0m\u001b[0mmsg\u001b[0m\u001b[0;34m)\u001b[0m\u001b[0;34m\u001b[0m\u001b[0m\n\u001b[0m\u001b[1;32m    335\u001b[0m \u001b[0;34m\u001b[0m\u001b[0m\n\u001b[1;32m    336\u001b[0m \u001b[0;32mdef\u001b[0m \u001b[0mprint_assert_equal\u001b[0m\u001b[0;34m(\u001b[0m\u001b[0mtest_string\u001b[0m\u001b[0;34m,\u001b[0m \u001b[0mactual\u001b[0m\u001b[0;34m,\u001b[0m \u001b[0mdesired\u001b[0m\u001b[0;34m)\u001b[0m\u001b[0;34m:\u001b[0m\u001b[0;34m\u001b[0m\u001b[0m\n",
      "\u001b[0;31mAssertionError\u001b[0m: \nItems are not equal:\nitem=0\nTesting x^2-2x+(1-1e-10)=0; roots should be 1 +- 1e-5.\n ACTUAL: 1.0000100000004137\n DESIRED: 1.00001"
     ]
    }
   ],
   "source": [
    "from math import sqrt\n",
    "\n",
    "def test_real_distinct_irrational():\n",
    "    \"\"\"\n",
    "    Test that the roots of x^2 - 2 x + (1 - 10**(-10)) = 0 are 1 \\pm 1e-5.\n",
    "    \"\"\"\n",
    "    \n",
    "    roots = (1 + 1e-5, 1 - 1e-5)\n",
    "    assert_equal(real_quadratic_roots(1, -2.0, 1.0 - 1e-10), roots,\n",
    "                 err_msg=\"Testing x^2-2x+(1-1e-10)=0; roots should be 1 +- 1e-5.\")\n",
    "    \n",
    "test_real_distinct_irrational()"
   ]
  },
  {
   "cell_type": "markdown",
   "metadata": {},
   "source": [
    "We see that the solutions match to the first 14 or so digits, but this isn't enough for them to be *exactly* the same. In this case, and in most cases using floating point numbers, we want the result to be \"close enough\": to match the expected precision. There is an assertion for this as well:"
   ]
  },
  {
   "cell_type": "code",
   "execution_count": 34,
   "metadata": {
    "collapsed": true
   },
   "outputs": [],
   "source": [
    "from math import sqrt\n",
    "\n",
    "def test_real_distinct_irrational():\n",
    "    \"\"\"\n",
    "    Test that the roots of x^2 - 2 x + (1 - 10**(-10)) = 0 are 1 \\pm 1e-5.\n",
    "    \"\"\"\n",
    "    \n",
    "    roots = (1 + 1e-5, 1 - 1e-5)\n",
    "    assert_allclose(real_quadratic_roots(1, -2.0, 1.0 - 1e-10), roots,\n",
    "                 err_msg=\"Testing x^2-2x+(1-1e-10)=0; roots should be 1 +- 1e-5.\")\n",
    "    \n",
    "test_real_distinct_irrational()"
   ]
  },
  {
   "cell_type": "markdown",
   "metadata": {},
   "source": [
    "The `assert_allclose` statement takes options controlling the precision of our test.\n",
    "\n",
    "We can now write out all our tests:"
   ]
  },
  {
   "cell_type": "code",
   "execution_count": 35,
   "metadata": {
    "collapsed": false
   },
   "outputs": [],
   "source": [
    "from math import sqrt\n",
    "from numpy.testing import assert_equal, assert_allclose\n",
    "\n",
    "def test_no_roots():\n",
    "    \"\"\"\n",
    "    Test that the roots of x^2 + 1 = 0 are not real.\n",
    "    \"\"\"\n",
    "    \n",
    "    roots = None\n",
    "    assert_equal(real_quadratic_roots(1, 0, 1), roots,\n",
    "                 err_msg=\"Testing x^2+1=0; no real roots.\")\n",
    "\n",
    "def test_zero_roots():\n",
    "    \"\"\"\n",
    "    Test that the roots of x^2 = 0 are both zero.\n",
    "    \"\"\"\n",
    "    \n",
    "    roots = (0, 0)\n",
    "    assert_equal(real_quadratic_roots(1, 0, 0), roots,\n",
    "                 err_msg=\"Testing x^2=0; should both be zero.\")\n",
    "\n",
    "def test_real_distinct():\n",
    "    \"\"\"\n",
    "    Test that the roots of x^2 - 1 = 0 are \\pm 1.\n",
    "    \"\"\"\n",
    "    \n",
    "    roots = (1.0, -1.0)\n",
    "    assert_equal(real_quadratic_roots(1, 0, -1), roots,\n",
    "                 err_msg=\"Testing x^2-1=0; roots should be 1 and -1.\")\n",
    "    \n",
    "def test_real_distinct_irrational():\n",
    "    \"\"\"\n",
    "    Test that the roots of x^2 - 2 x + (1 - 10**(-10)) = 0 are 1 \\pm 1e-5.\n",
    "    \"\"\"\n",
    "    \n",
    "    roots = (1 + 1e-5, 1 - 1e-5)\n",
    "    assert_allclose(real_quadratic_roots(1, -2.0, 1.0 - 1e-10), roots,\n",
    "                 err_msg=\"Testing x^2-2x+(1-1e-10)=0; roots should be 1 +- 1e-5.\")\n",
    "    \n",
    "def test_real_linear_degeneracy():\n",
    "    \"\"\"\n",
    "    Test that the root of x + 1 = 0 is -1.\n",
    "    \"\"\"\n",
    "    \n",
    "    root = -1.0\n",
    "    assert_equal(real_quadratic_roots(0, 1, 1), root,\n",
    "                 err_msg=\"Testing x+1=0; root should be -1.\")"
   ]
  },
  {
   "cell_type": "code",
   "execution_count": 36,
   "metadata": {
    "collapsed": false
   },
   "outputs": [],
   "source": [
    "test_no_roots()\n",
    "test_zero_roots()\n",
    "test_real_distinct()\n",
    "test_real_distinct_irrational()\n",
    "test_real_linear_degeneracy()"
   ]
  },
  {
   "cell_type": "markdown",
   "metadata": {},
   "source": [
    "## Nose"
   ]
  },
  {
   "cell_type": "markdown",
   "metadata": {},
   "source": [
    "We now have a set of tests - a *testsuite*, as it is sometimes called - encoded in functions, with meaningful names, which give useful error messages if the test fails. Every time the code is changed, we want to re-run all the tests to ensure that our change has not broken the code. This can be tedious. A better way would be to run a single command that runs all tests. `nosetests` is that command.\n",
    "\n",
    "The easiest way to use it is to put all tests in the same file as the function being tested. So, create a file `quadratic.py` containing\n",
    "\n",
    "```python\n",
    "from math import sqrt\n",
    "from numpy.testing import assert_equal, assert_allclose\n",
    "    \n",
    "def real_quadratic_roots(a, b, c):\n",
    "    \"\"\"\n",
    "    Find the real roots of the quadratic equation a x^2 + b x + c = 0, if they exist.\n",
    "    \n",
    "    Parameters\n",
    "    ----------\n",
    "    \n",
    "    a : float\n",
    "        Coefficient of x^2\n",
    "    b : float\n",
    "        Coefficient of x^1\n",
    "    c : float\n",
    "        Coefficient of x^0\n",
    "        \n",
    "    Returns\n",
    "    -------\n",
    "    \n",
    "    roots : tuple or float or None\n",
    "        The root(s) (two if a genuine quadratic, one if linear, None otherwise)\n",
    "        \n",
    "    Raises\n",
    "    ------\n",
    "    \n",
    "    NotImplementedError\n",
    "        If the equation has trivial a and b coefficients, so isn't solvable.\n",
    "    \"\"\"\n",
    "    \n",
    "    discriminant = b**2 - 4.0*a*c\n",
    "    if discriminant < 0.0:\n",
    "        return None\n",
    "    \n",
    "    if a == 0:\n",
    "        if b == 0:\n",
    "            raise NotImplementedError(\"Cannot solve quadratic with both a\"\n",
    "                                      \" and b coefficients equal to 0.\")\n",
    "        else:\n",
    "            return -c / b\n",
    "    \n",
    "    x_plus = (-b + sqrt(discriminant)) / (2.0*a)\n",
    "    x_minus = (-b - sqrt(discriminant)) / (2.0*a)\n",
    "    \n",
    "    return x_plus, x_minus\n",
    "\n",
    "def test_no_roots():\n",
    "    \"\"\"\n",
    "    Test that the roots of x^2 + 1 = 0 are not real.\n",
    "    \"\"\"\n",
    "    \n",
    "    roots = None\n",
    "    assert_equal(real_quadratic_roots(1, 0, 1), roots,\n",
    "                 err_msg=\"Testing x^2+1=0; no real roots.\")\n",
    "\n",
    "def test_zero_roots():\n",
    "    \"\"\"\n",
    "    Test that the roots of x^2 = 0 are both zero.\n",
    "    \"\"\"\n",
    "    \n",
    "    roots = (0, 0)\n",
    "    assert_equal(real_quadratic_roots(1, 0, 0), roots,\n",
    "                 err_msg=\"Testing x^2=0; should both be zero.\")\n",
    "\n",
    "def test_real_distinct():\n",
    "    \"\"\"\n",
    "    Test that the roots of x^2 - 1 = 0 are \\pm 1.\n",
    "    \"\"\"\n",
    "    \n",
    "    roots = (1.0, -1.0)\n",
    "    assert_equal(real_quadratic_roots(1, 0, -1), roots,\n",
    "                 err_msg=\"Testing x^2-1=0; roots should be 1 and -1.\")\n",
    "    \n",
    "def test_real_distinct_irrational():\n",
    "    \"\"\"\n",
    "    Test that the roots of x^2 - 2 x + (1 - 10**(-10)) = 0 are 1 \\pm 1e-5.\n",
    "    \"\"\"\n",
    "    \n",
    "    roots = (1 + 1e-5, 1 - 1e-5)\n",
    "    assert_allclose(real_quadratic_roots(1, -2.0, 1.0 - 1e-10), roots,\n",
    "                 err_msg=\"Testing x^2-2x+(1-1e-10)=0; roots should be 1 +- 1e-5.\")\n",
    "    \n",
    "def test_real_linear_degeneracy():\n",
    "    \"\"\"\n",
    "    Test that the root of x + 1 = 0 is -1.\n",
    "    \"\"\"\n",
    "    \n",
    "    root = -1.0\n",
    "    assert_equal(real_quadratic_roots(0, 1, 1), root,\n",
    "                 err_msg=\"Testing x+1=0; root should be -1.\")\n",
    "```"
   ]
  },
  {
   "cell_type": "markdown",
   "metadata": {},
   "source": [
    "Then, in a terminal or command window, switch to the directory containing this file. Then run\n",
    "\n",
    "```\n",
    "nosetests quadratic.py\n",
    "```\n",
    "\n",
    "You should see output similar to\n",
    "\n",
    "```\n",
    "nosetests quadratic.py \n",
    ".....\n",
    "----------------------------------------------------------------------\n",
    "Ran 5 tests in 0.006s\n",
    "\n",
    "OK\n",
    "```\n",
    "\n",
    "Each dot corresponds to a test. If a test fails, `nose` will report the error and move on to the next test. `nose` automatically runs every function that starts with `test`, or every file in a module starting with `test`, or more. [The documentation](https://nose.readthedocs.org/en/latest/testing.html) gives more details about using `nose` in more complex cases.\n",
    "\n",
    "To summarize: when trying to get code working, tests are essential. Tests should be simple and cover as many of the easy cases and as much of the code as possible. By writing tests as functions that raise exceptions, and using a testing framework such as `nose`, all tests can be run rapidly, saving time."
   ]
  },
  {
   "cell_type": "markdown",
   "metadata": {},
   "source": [
    "## Test Driven Development"
   ]
  },
  {
   "cell_type": "markdown",
   "metadata": {},
   "source": [
    "There are many ways of writing code to solve problems. Most involve planning in advance how the code should be written. An alternative is to say in advance what tests the code should pass. This *Test Driven Development* (TDD) has advantages (the code always has a detailed set of tests, features in the code are always relevant to some test, it's easy to start writing code) and some disadvantages (it can be overkill for small projects, it can lead down blind alleys). A [detailed discussion is given by Beck's book](http://www.amazon.co.uk/Driven-Development-Addison-Wesley-Signature-Series/dp/0321146530), and a [more recent discussion in this series of conversations](http://martinfowler.com/articles/is-tdd-dead/).\n",
    "\n",
    "Even if TDD does not work for you, testing itself is extremely important."
   ]
  },
  {
   "cell_type": "markdown",
   "metadata": {},
   "source": [
    "# Debugging"
   ]
  },
  {
   "cell_type": "markdown",
   "metadata": {},
   "source": [
    "When things go wrong with the code, there are two types of problem: a code that does not run, or a code that doesn't produce the expected result. The first is usually easier to track down, and the first step is always the same: **read the error message**. The error message, especially when run in IPython, will give a line number, and the file, and some details of the problem. Sometimes that will be sufficient information to spot the problem.\n",
    "\n",
    "In other cases the reason for the error depends on the calculations inside the code, and the steps through the code need inspecting in detail. This is where a *debugger* is useful. It allows you to run the code, pause at specific points or conditions, step through it as it runs line-by-line, and inspect all the values as you go. There are a number of python debuggers - `pdb` and `ipdb` being the simplest. However, `spyder` has a debugger built in, and learning to use it will make you life considerably easier."
   ]
  },
  {
   "cell_type": "markdown",
   "metadata": {
    "collapsed": true
   },
   "source": [
    "## Breakpoints"
   ]
  },
  {
   "cell_type": "markdown",
   "metadata": {},
   "source": [
    "The main use of the debugger is to inspect the internal state of a code whilst it is running. Do do that we have to stop the execution of the code somewhere. This is typically done using *breakpoints*.\n",
    "\n",
    "Copy the following function into a file named `breakpoints.py`:\n",
    "\n",
    "```python\n",
    "def test_sequence(N):\n",
    "    \"\"\"\n",
    "    Compute the infinite sum of 2^{-n} starting from n = 0, truncating\n",
    "    at n = N, returning the value of 2^{-n} and the truncated sum.\n",
    "\n",
    "    Parameters\n",
    "    ----------\n",
    "\n",
    "    N : int\n",
    "        Positive integer, giving the number of terms in the sum\n",
    "\n",
    "    Returns\n",
    "    -------\n",
    "\n",
    "    limit : float\n",
    "        The value of 2^{-N}\n",
    "    partial_sum : float\n",
    "        The value of the truncated sum\n",
    "\n",
    "    Notes\n",
    "    -----\n",
    "\n",
    "    The limiting value should be zero, and the value of the sum should\n",
    "    converge to 2.\n",
    "    \"\"\"\n",
    "\n",
    "    # Start sum from zero, so give zeroth term\n",
    "    limit = 1.0\n",
    "    partial_sum = 1.0\n",
    "\n",
    "    # At each step, increment sum and change summand\n",
    "    for n in range(1, N+1):\n",
    "        partial_sum += limit\n",
    "        limit /= 2.0\n",
    "\n",
    "    return limit, partial_sum\n",
    "    \n",
    "if __name__ == '__main__':\n",
    "    print(test_sequence(50))\n",
    "```\n",
    "\n",
    "This computes the value $2^{-N}$ and the partial sum $\\sum_{n=0}^N 2^{-n}$. The limit as $N\\to\\infty$ of the value should be zero, and of the sum should be two. \n",
    "\n",
    "The final two lines ensures that, if the file is run as a python script, the function will be called (with `N=50`). The `if` statement is a standard Python convention: if you have code that you want executed *only if* the file is run as a script, and not if the file is imported as a module\n",
    "\n",
    "If we run the function we find it does not work as expected:"
   ]
  },
  {
   "cell_type": "code",
   "execution_count": 37,
   "metadata": {
    "collapsed": false
   },
   "outputs": [
    {
     "name": "stdout",
     "output_type": "stream",
     "text": [
      "(0.0009765625, 2.998046875)\n",
      "(7.888609052210118e-31, 3.0)\n",
      "(9.332636185032189e-302, 3.0)\n"
     ]
    }
   ],
   "source": [
    "import breakpoints\n",
    "print(breakpoints.test_sequence(10))\n",
    "print(breakpoints.test_sequence(100))\n",
    "print(breakpoints.test_sequence(1000))"
   ]
  },
  {
   "cell_type": "markdown",
   "metadata": {},
   "source": [
    "The value is tending to the right limit; the sum is not. The test (that we should have written formally) has failed. It may be obvious what the problem is, but we illustrate how to find it using the debugger.\n",
    "\n",
    "First, we must know what to expect. The terms in the partial sum (which is where the problem lies) should be\n",
    "\\begin{equation}\n",
    "  \\sum_{n=0}^N 2^{-n} = 1 + \\frac{1}{2} + \\frac{1}{4} + \\dots\n",
    "\\end{equation}\n",
    "We want to inspect what the partial sum actually does. This is performed in the code within the `for` loop, which starts on line 32 of the code.\n",
    "\n",
    "1. Open the code in `spyder`. \n",
    "2. Ensure that the working directory is set to the directory the file is in (shortcut: the top right corner of the editor part of the window contains a drop down \"Options\" menu: the second option \"Set console working directory\" will do what is needed.)\n",
    "3. Set a breakpoint on line 32. To do this, double-click on the \"32\" on the left hand side of the editor screen. A small red circle will appear next to it. (To remove a breakpoint, double click the number again)\n",
    "4. Start debugging by going to the \"Debug\" menu and clicking \"Debug\". The console will indicate that\n",
    "    1. The code has been started\n",
    "    2. The code has paused at line 32.\n",
    "5. In the top right of the `spyder` window, click on the \"Variable explorer\" tab. This shows the values of all the variables at this point. Note that line 32 has not yet been executed. The value of the partial sum, given by `partial_sum`, is currently `1` (as the `N=0` term is set outside of the sum).\n",
    "6. Work out which toolbar button \"Runs\" the current line. You should see\n",
    "    1. The \"active line\" marker in the editor and console move forward to line 33;\n",
    "    2. The value of the loop counter `n` appear in the Variable explorer, set to 1.\n",
    "7. \"Run\" the current line again (which will now be line 33). We see that it adds the current value of `limit`, which is meant to represent $2^{-n}$, to the partial sum `partial_sum`. However, this value is 1, so `partial_sum` becomes 2. According to the sum written out above, this $n=1$ term should be $1/2$. So this is a bug.\n",
    "\n",
    "To fix this bug, the simplest thing to do is to ensure that `limit` has the value corresponding to the `n`th part of the sum *before* it is used, by swapping lines 33 and 34."
   ]
  },
  {
   "cell_type": "markdown",
   "metadata": {},
   "source": [
    "You should experiment with adding breakpoints and stepping through some of your own codes. In particular, you should note that \"Run\"ning the current line of code will skip over any function calls, including calls to functions you have yourself defined. If you want to follow the code as it executes functions, you need to use the \"Step into\" button instead."
   ]
  }
 ],
 "metadata": {
  "kernelspec": {
   "display_name": "Python 2",
   "language": "python",
   "name": "python2"
  },
  "language_info": {
   "codemirror_mode": {
    "name": "ipython",
    "version": 2
   },
   "file_extension": ".py",
   "mimetype": "text/x-python",
   "name": "python",
   "nbconvert_exporter": "python",
   "pygments_lexer": "ipython2",
   "version": "2.7.10"
  }
 },
 "nbformat": 4,
 "nbformat_minor": 0
}
