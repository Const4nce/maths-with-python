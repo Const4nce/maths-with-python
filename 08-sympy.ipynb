{
 "cells": [
  {
   "cell_type": "markdown",
   "metadata": {},
   "source": [
    "In standard mathematics we routinely write down abstract variables or concepts and manipulate them without ever assigning specific values to them. An example would be the quadratic equation\n",
    "\\begin{equation}\n",
    "  a x^2 + b x + c = 0\n",
    "\\end{equation}\n",
    "and its roots $x_{\\pm}$: we can write down the solutions of the equation and discuss the existence, within the real numbers, of the roots, without specifying the particular values of the parameters $a, b$ and $c$.\n",
    "\n",
    "In a standard computer programming language, we can write *functions* that encapsulate the solutions of the equation, but calling those functions requires us to specify values of the parameters. In general, the value of a variable must be given before the variable can be used.\n",
    "\n",
    "However, there *do* exist *Computer Algebra Systems* that can perform manipulations in the \"standard\" mathematical form. Through the university you will have access to Wolfram Mathematica and Maple, which are commercial packages providing a huge range of mathematical tools. There are also freely available packages, such as SageMath and `sympy`. These are not always easy to use, as all CAS have their own formal languages that rarely perfectly match your expectations.\n",
    "\n",
    "Here we will briefly look at `sympy`, which is a pure python CAS. `sympy` is not suitable for complex calculations, as it's far slower than the alternatives. However, it does interface very cleanly with python, so can be used to inside python code, especially to avoid entering lengthy expressions."
   ]
  },
  {
   "cell_type": "markdown",
   "metadata": {},
   "source": [
    "# sympy"
   ]
  },
  {
   "cell_type": "markdown",
   "metadata": {},
   "source": [
    "## Setting up"
   ]
  },
  {
   "cell_type": "markdown",
   "metadata": {},
   "source": [
    "Setting up `sympy` is straightforward:"
   ]
  },
  {
   "cell_type": "code",
   "execution_count": 1,
   "metadata": {
    "collapsed": false
   },
   "outputs": [],
   "source": [
    "import sympy\n",
    "sympy.init_printing()"
   ]
  },
  {
   "cell_type": "markdown",
   "metadata": {
    "collapsed": true
   },
   "source": [
    "The standard `import` command is used. The `init_printing` command looks at your system to find the clearest way of displaying the output; this isn't necessary, but is helpful for understanding the results."
   ]
  },
  {
   "cell_type": "markdown",
   "metadata": {},
   "source": [
    "To do *anything* in `sympy` we have to explicitly tell it if something is a variable, and what name it has. There are two commands that do this. To declare a single variable, use"
   ]
  },
  {
   "cell_type": "code",
   "execution_count": 2,
   "metadata": {
    "collapsed": true
   },
   "outputs": [],
   "source": [
    "x = sympy.Symbol('x')"
   ]
  },
  {
   "cell_type": "markdown",
   "metadata": {},
   "source": [
    "To declare multiple variables at once, use"
   ]
  },
  {
   "cell_type": "code",
   "execution_count": 3,
   "metadata": {
    "collapsed": false
   },
   "outputs": [],
   "source": [
    "y, z0 = sympy.symbols(('y', 'z_0'))"
   ]
  },
  {
   "cell_type": "markdown",
   "metadata": {},
   "source": [
    "Note that the \"name\" of the variable does not need to match the symbol with which it is displayed. We have used this with `z0` above:"
   ]
  },
  {
   "cell_type": "code",
   "execution_count": 4,
   "metadata": {
    "collapsed": false
   },
   "outputs": [
    {
     "data": {
      "image/png": "[encoded data removed]",
      "text/latex": [
       "$$z_{0}$$"
      ],
      "text/plain": [
       "z₀"
      ]
     },
     "execution_count": 4,
     "metadata": {},
     "output_type": "execute_result"
    }
   ],
   "source": [
    "z0"
   ]
  },
  {
   "cell_type": "markdown",
   "metadata": {},
   "source": [
    "Once we have variables, we can define new variables by operating on old ones:"
   ]
  },
  {
   "cell_type": "code",
   "execution_count": 5,
   "metadata": {
    "collapsed": false
   },
   "outputs": [
    {
     "name": "stdout",
     "output_type": "stream",
     "text": [
      "a=x + y. b=y*z_0.\n"
     ]
    }
   ],
   "source": [
    "a = x + y\n",
    "b = y * z0\n",
    "print(\"a={}. b={}.\".format(a, b))"
   ]
  },
  {
   "cell_type": "code",
   "execution_count": 6,
   "metadata": {
    "collapsed": false
   },
   "outputs": [
    {
     "data": {
      "image/png": "[encoded data removed]",
      "text/latex": [
       "$$x + y$$"
      ],
      "text/plain": [
       "x + y"
      ]
     },
     "execution_count": 6,
     "metadata": {},
     "output_type": "execute_result"
    }
   ],
   "source": [
    "a"
   ]
  },
  {
   "cell_type": "markdown",
   "metadata": {},
   "source": [
    "In addition to variables, we can also define general functions. There is only one option for this:"
   ]
  },
  {
   "cell_type": "code",
   "execution_count": 7,
   "metadata": {
    "collapsed": true
   },
   "outputs": [],
   "source": [
    "f = sympy.Function('f')"
   ]
  },
  {
   "cell_type": "markdown",
   "metadata": {},
   "source": [
    "## In-built functions"
   ]
  },
  {
   "cell_type": "markdown",
   "metadata": {},
   "source": [
    "We have seen already that mathematical functions can be found in different packages. For example, the $\\sin$ function appears in `math` as `math.sin`, acting on a single number. It also appears in `numpy` as `numpy.sin`, where it can act on vectors and arrays in one go. `sympy` re-implements many mathematical functions, for example as `sympy.sin`, which can act on abstract (`sympy`) variables.\n",
    "\n",
    "Whenever using `sympy` we should use `sympy` functions, as these can be manipulated and simplified. For example:"
   ]
  },
  {
   "cell_type": "code",
   "execution_count": 8,
   "metadata": {
    "collapsed": true
   },
   "outputs": [],
   "source": [
    "c = sympy.sin(x)**2 + sympy.cos(x)**2"
   ]
  },
  {
   "cell_type": "code",
   "execution_count": 9,
   "metadata": {
    "collapsed": false
   },
   "outputs": [
    {
     "data": {
      "image/png": "[encoded data removed]",
      "text/latex": [
       "$$\\sin^{2}{\\left (x \\right )} + \\cos^{2}{\\left (x \\right )}$$"
      ],
      "text/plain": [
       "   2         2   \n",
       "sin (x) + cos (x)"
      ]
     },
     "execution_count": 9,
     "metadata": {},
     "output_type": "execute_result"
    }
   ],
   "source": [
    "c"
   ]
  },
  {
   "cell_type": "code",
   "execution_count": 10,
   "metadata": {
    "collapsed": false
   },
   "outputs": [
    {
     "data": {
      "image/png": "[encoded data removed]",
      "text/latex": [
       "$$1$$"
      ],
      "text/plain": [
       "1"
      ]
     },
     "execution_count": 10,
     "metadata": {},
     "output_type": "execute_result"
    }
   ],
   "source": [
    "c.simplify()"
   ]
  },
  {
   "cell_type": "markdown",
   "metadata": {},
   "source": [
    "Note the steps taken here. `c` is an object, something that `sympy` has created. Once created it can be manipulated and simplified, using the methods on the object. It is useful to use tab completion to look at the available commands. For example,"
   ]
  },
  {
   "cell_type": "code",
   "execution_count": 11,
   "metadata": {
    "collapsed": true
   },
   "outputs": [],
   "source": [
    "d = sympy.cosh(x)**2 - sympy.sinh(x)**2"
   ]
  },
  {
   "cell_type": "markdown",
   "metadata": {},
   "source": [
    "Now type `d.` and then tab, to inspect all the available methods. As before, we could do"
   ]
  },
  {
   "cell_type": "code",
   "execution_count": 12,
   "metadata": {
    "collapsed": false
   },
   "outputs": [
    {
     "data": {
      "image/png": "[encoded data removed]",
      "text/latex": [
       "$$1$$"
      ],
      "text/plain": [
       "1"
      ]
     },
     "execution_count": 12,
     "metadata": {},
     "output_type": "execute_result"
    }
   ],
   "source": [
    "d.simplify()"
   ]
  },
  {
   "cell_type": "markdown",
   "metadata": {},
   "source": [
    "but there are many other options."
   ]
  },
  {
   "cell_type": "markdown",
   "metadata": {},
   "source": [
    "## Solving equations"
   ]
  },
  {
   "cell_type": "markdown",
   "metadata": {},
   "source": [
    "Let us go back to our quadratic equation and check the solution. To define an *equation* we use the `sympy.Eq` function:"
   ]
  },
  {
   "cell_type": "code",
   "execution_count": 13,
   "metadata": {
    "collapsed": false
   },
   "outputs": [
    {
     "data": {
      "image/png": "[encoded data removed]",
      "text/latex": [
       "$$\\left [ \\left \\{ a : - \\frac{1}{x^{2}} \\left(b x + c\\right)\\right \\}\\right ]$$"
      ],
      "text/plain": [
       "⎡⎧   -(b⋅x + c) ⎫⎤\n",
       "⎢⎪a: ───────────⎪⎥\n",
       "⎢⎨         2    ⎬⎥\n",
       "⎢⎪        x     ⎪⎥\n",
       "⎣⎩              ⎭⎦"
      ]
     },
     "execution_count": 13,
     "metadata": {},
     "output_type": "execute_result"
    }
   ],
   "source": [
    "a, b, c, x = sympy.symbols(('a', 'b', 'c', 'x'))\n",
    "quadratic_equation = sympy.Eq(a*x**2+b*x+c, 0)\n",
    "sympy.solve(quadratic_equation)"
   ]
  },
  {
   "cell_type": "markdown",
   "metadata": {},
   "source": [
    "What happened here? `sympy` is not smart enough to know that we wanted to solve for `x`! Instead, it solved for the first variable it encountered. Let us try again:"
   ]
  },
  {
   "cell_type": "code",
   "execution_count": 14,
   "metadata": {
    "collapsed": false
   },
   "outputs": [
    {
     "data": {
      "image/png": "[encoded data removed]",
      "text/latex": [
       "$$\\left [ \\frac{1}{2 a} \\left(- b + \\sqrt{- 4 a c + b^{2}}\\right), \\quad - \\frac{1}{2 a} \\left(b + \\sqrt{- 4 a c + b^{2}}\\right)\\right ]$$"
      ],
      "text/plain": [
       "⎡        _____________   ⎛       _____________⎞ ⎤\n",
       "⎢       ╱           2    ⎜      ╱           2 ⎟ ⎥\n",
       "⎢-b + ╲╱  -4⋅a⋅c + b    -⎝b + ╲╱  -4⋅a⋅c + b  ⎠ ⎥\n",
       "⎢─────────────────────, ────────────────────────⎥\n",
       "⎣         2⋅a                     2⋅a           ⎦"
      ]
     },
     "execution_count": 14,
     "metadata": {},
     "output_type": "execute_result"
    }
   ],
   "source": [
    "sympy.solve(quadratic_equation, x)"
   ]
  },
  {
   "cell_type": "markdown",
   "metadata": {},
   "source": [
    "This is our expectation: multiple solutions, returned as a list. We can access and manipulate these results:"
   ]
  },
  {
   "cell_type": "code",
   "execution_count": 15,
   "metadata": {
    "collapsed": true
   },
   "outputs": [],
   "source": [
    "roots = sympy.solve(quadratic_equation, x)\n",
    "xplus, xminus = sympy.symbols(('x_{+}', 'x_{-}'))\n",
    "xplus = roots[0]\n",
    "xminus = roots[1]"
   ]
  },
  {
   "cell_type": "markdown",
   "metadata": {},
   "source": [
    "We can substitute in specific values for the parameters to find solutions:"
   ]
  },
  {
   "cell_type": "code",
   "execution_count": 16,
   "metadata": {
    "collapsed": false
   },
   "outputs": [
    {
     "data": {
      "image/png": "[encoded data removed]",
      "text/latex": [
       "$$-1 + \\sqrt{2} i$$"
      ],
      "text/plain": [
       "       ___  \n",
       "-1 + ╲╱ 2 ⋅ⅈ"
      ]
     },
     "execution_count": 16,
     "metadata": {},
     "output_type": "execute_result"
    }
   ],
   "source": [
    "xplus_solution = xplus.subs([(a,1), (b,2), (c,3)])\n",
    "xplus_solution"
   ]
  },
  {
   "cell_type": "markdown",
   "metadata": {},
   "source": [
    "We have a list of substitutions. Each substitution is given by a tuple, containing the variable to be replaced, and the expression replacing it. We do not have to substitute in numbers, as here, but could use other variables:"
   ]
  },
  {
   "cell_type": "code",
   "execution_count": 17,
   "metadata": {
    "collapsed": false
   },
   "outputs": [
    {
     "data": {
      "image/png": "[encoded data removed]",
      "text/latex": [
       "$$- \\frac{1}{2 a} \\left(a + \\sqrt{a^{2} - 4 a \\left(a + z_{0}\\right)}\\right)$$"
      ],
      "text/plain": [
       " ⎛       ___________________⎞ \n",
       " ⎜      ╱  2                ⎟ \n",
       "-⎝a + ╲╱  a  - 4⋅a⋅(a + z₀) ⎠ \n",
       "──────────────────────────────\n",
       "             2⋅a              "
      ]
     },
     "execution_count": 17,
     "metadata": {},
     "output_type": "execute_result"
    }
   ],
   "source": [
    "xminus_solution = xminus.subs([(b,a), (c,a+z0)])\n",
    "xminus_solution"
   ]
  },
  {
   "cell_type": "code",
   "execution_count": 18,
   "metadata": {
    "collapsed": false
   },
   "outputs": [
    {
     "data": {
      "image/png": "[encoded data removed]",
      "text/latex": [
       "$$- \\frac{1}{2 a} \\left(a + \\sqrt{- a \\left(3 a + 4 z_{0}\\right)}\\right)$$"
      ],
      "text/plain": [
       " ⎛      _________________⎞ \n",
       "-⎝a + ╲╱ -a⋅(3⋅a + 4⋅z₀) ⎠ \n",
       "───────────────────────────\n",
       "            2⋅a            "
      ]
     },
     "execution_count": 18,
     "metadata": {},
     "output_type": "execute_result"
    }
   ],
   "source": [
    "xminus_solution.simplify()"
   ]
  },
  {
   "cell_type": "markdown",
   "metadata": {},
   "source": [
    "We can use similar syntax to solve *systems* of equations, such as\n",
    "\\begin{align}\n",
    "  x + 2 y &= 0, \\\\ xy & = z_0.\n",
    "\\end{align}"
   ]
  },
  {
   "cell_type": "code",
   "execution_count": 19,
   "metadata": {
    "collapsed": false
   },
   "outputs": [
    {
     "data": {
      "image/png": "[encoded data removed]",
      "text/latex": [
       "$$\\left [ \\left ( - \\sqrt{2} \\sqrt{- z_{0}}, \\quad \\frac{\\sqrt{2}}{2} \\sqrt{- z_{0}}\\right ), \\quad \\left ( \\sqrt{2} \\sqrt{- z_{0}}, \\quad - \\frac{\\sqrt{2}}{2} \\sqrt{- z_{0}}\\right )\\right ]$$"
      ],
      "text/plain": [
       "⎡⎛                  ___   _____⎞  ⎛                  ___   _____ ⎞⎤\n",
       "⎢⎜   ___   _____  ╲╱ 2 ⋅╲╱ -z₀ ⎟  ⎜  ___   _____  -╲╱ 2 ⋅╲╱ -z₀  ⎟⎥\n",
       "⎢⎜-╲╱ 2 ⋅╲╱ -z₀ , ─────────────⎟, ⎜╲╱ 2 ⋅╲╱ -z₀ , ───────────────⎟⎥\n",
       "⎣⎝                      2      ⎠  ⎝                      2       ⎠⎦"
      ]
     },
     "execution_count": 19,
     "metadata": {},
     "output_type": "execute_result"
    }
   ],
   "source": [
    "eq1 = sympy.Eq(x+2*y, 0)\n",
    "eq2 = sympy.Eq(x*y, z0)\n",
    "sympy.solve([eq1, eq2], [x, y])"
   ]
  },
  {
   "cell_type": "markdown",
   "metadata": {},
   "source": [
    "## Differentiation and integration"
   ]
  },
  {
   "cell_type": "markdown",
   "metadata": {},
   "source": [
    "### Differentiation"
   ]
  },
  {
   "cell_type": "markdown",
   "metadata": {},
   "source": [
    "There is a standard function for differentiation, `diff`:"
   ]
  },
  {
   "cell_type": "code",
   "execution_count": 20,
   "metadata": {
    "collapsed": false
   },
   "outputs": [
    {
     "data": {
      "image/png": "[encoded data removed]",
      "text/latex": [
       "$$2 x \\sin{\\left (\\log{\\left (x \\right )} \\right )} + x \\cos{\\left (\\log{\\left (x \\right )} \\right )}$$"
      ],
      "text/plain": [
       "2⋅x⋅sin(log(x)) + x⋅cos(log(x))"
      ]
     },
     "execution_count": 20,
     "metadata": {},
     "output_type": "execute_result"
    }
   ],
   "source": [
    "expression = x**2*sympy.sin(sympy.log(x))\n",
    "sympy.diff(expression, x)"
   ]
  },
  {
   "cell_type": "markdown",
   "metadata": {},
   "source": [
    "A parameter can control how many times to differentiate:"
   ]
  },
  {
   "cell_type": "code",
   "execution_count": 21,
   "metadata": {
    "collapsed": false
   },
   "outputs": [
    {
     "data": {
      "image/png": "[encoded data removed]",
      "text/latex": [
       "$$\\frac{1}{x} \\left(- 3 \\sin{\\left (\\log{\\left (x \\right )} \\right )} + \\cos{\\left (\\log{\\left (x \\right )} \\right )}\\right)$$"
      ],
      "text/plain": [
       "-3⋅sin(log(x)) + cos(log(x))\n",
       "────────────────────────────\n",
       "             x              "
      ]
     },
     "execution_count": 21,
     "metadata": {},
     "output_type": "execute_result"
    }
   ],
   "source": [
    "sympy.diff(expression, x, 3)"
   ]
  },
  {
   "cell_type": "markdown",
   "metadata": {},
   "source": [
    "Partial differentiation with respect to multiple variables can also be performed by increasing the number of arguments:"
   ]
  },
  {
   "cell_type": "code",
   "execution_count": 22,
   "metadata": {
    "collapsed": false
   },
   "outputs": [
    {
     "data": {
      "image/png": "[encoded data removed]",
      "text/latex": [
       "$$4 y \\left(- 2 x y^{2} \\sin{\\left (x + y^{2} \\right )} + 3 x \\cos{\\left (x + y^{2} \\right )} + 4 y^{2} \\cos{\\left (x + y^{2} \\right )} + 6 \\sin{\\left (x + y^{2} \\right )}\\right)$$"
      ],
      "text/plain": [
       "    ⎛       2    ⎛     2⎞          ⎛     2⎞      2    ⎛     2⎞        ⎛     2⎞\n",
       "4⋅y⋅⎝- 2⋅x⋅y ⋅sin⎝x + y ⎠ + 3⋅x⋅cos⎝x + y ⎠ + 4⋅y ⋅cos⎝x + y ⎠ + 6⋅sin⎝x + y ⎠\n",
       "\n",
       "⎞\n",
       "⎠"
      ]
     },
     "execution_count": 22,
     "metadata": {},
     "output_type": "execute_result"
    }
   ],
   "source": [
    "expression2 = x*sympy.cos(y**2 + x)\n",
    "sympy.diff(expression2, x, 2, y, 3)"
   ]
  },
  {
   "cell_type": "markdown",
   "metadata": {},
   "source": [
    "There is also a function representing an *unevaluated* derivative:"
   ]
  },
  {
   "cell_type": "code",
   "execution_count": 23,
   "metadata": {
    "collapsed": false
   },
   "outputs": [
    {
     "data": {
      "image/png": "[encoded data removed]",
      "text/latex": [
       "$$\\frac{\\partial^{5}}{\\partial x^{2}\\partial y^{3}} \\left(x \\cos{\\left (x + y^{2} \\right )}\\right)$$"
      ],
      "text/plain": [
       "    5                 \n",
       "   ∂   ⎛     ⎛     2⎞⎞\n",
       "───────⎝x⋅cos⎝x + y ⎠⎠\n",
       "  3   2               \n",
       "∂y  ∂x                "
      ]
     },
     "execution_count": 23,
     "metadata": {},
     "output_type": "execute_result"
    }
   ],
   "source": [
    "sympy.Derivative(expression2, x, 2, y, 3)"
   ]
  },
  {
   "cell_type": "markdown",
   "metadata": {},
   "source": [
    "These can be useful for display, building up a calculation in stages, simplification, or when the derivative cannot be evaluated. It can be explicitly evaluated using the `doit` function:"
   ]
  },
  {
   "cell_type": "code",
   "execution_count": 24,
   "metadata": {
    "collapsed": false
   },
   "outputs": [
    {
     "data": {
      "image/png": "[encoded data removed]",
      "text/latex": [
       "$$4 y \\left(- 2 x y^{2} \\sin{\\left (x + y^{2} \\right )} + 3 x \\cos{\\left (x + y^{2} \\right )} + 4 y^{2} \\cos{\\left (x + y^{2} \\right )} + 6 \\sin{\\left (x + y^{2} \\right )}\\right)$$"
      ],
      "text/plain": [
       "    ⎛       2    ⎛     2⎞          ⎛     2⎞      2    ⎛     2⎞        ⎛     2⎞\n",
       "4⋅y⋅⎝- 2⋅x⋅y ⋅sin⎝x + y ⎠ + 3⋅x⋅cos⎝x + y ⎠ + 4⋅y ⋅cos⎝x + y ⎠ + 6⋅sin⎝x + y ⎠\n",
       "\n",
       "⎞\n",
       "⎠"
      ]
     },
     "execution_count": 24,
     "metadata": {},
     "output_type": "execute_result"
    }
   ],
   "source": [
    "sympy.Derivative(expression2, x, 2, y, 3).doit()"
   ]
  },
  {
   "cell_type": "markdown",
   "metadata": {},
   "source": [
    "### Integration"
   ]
  },
  {
   "cell_type": "markdown",
   "metadata": {},
   "source": [
    "Integration uses the `integrate` function. This can calculate either definite or indefinite integrals, but will *not* include the integration constant."
   ]
  },
  {
   "cell_type": "code",
   "execution_count": 25,
   "metadata": {
    "collapsed": false
   },
   "outputs": [
    {
     "data": {
      "image/png": "[encoded data removed]",
      "text/latex": [
       "$$x \\log^{2}{\\left (x \\right )} - 2 x \\log{\\left (x \\right )} + 2 x$$"
      ],
      "text/plain": [
       "     2                      \n",
       "x⋅log (x) - 2⋅x⋅log(x) + 2⋅x"
      ]
     },
     "execution_count": 25,
     "metadata": {},
     "output_type": "execute_result"
    }
   ],
   "source": [
    "integrand=sympy.log(x)**2\n",
    "sympy.integrate(integrand, x)"
   ]
  },
  {
   "cell_type": "code",
   "execution_count": 26,
   "metadata": {
    "collapsed": false
   },
   "outputs": [
    {
     "data": {
      "image/png": "[encoded data removed]",
      "text/latex": [
       "$$- 20 \\log{\\left (10 \\right )} + 18 + 10 \\log^{2}{\\left (10 \\right )}$$"
      ],
      "text/plain": [
       "                         2    \n",
       "-20⋅log(10) + 18 + 10⋅log (10)"
      ]
     },
     "execution_count": 26,
     "metadata": {},
     "output_type": "execute_result"
    }
   ],
   "source": [
    "sympy.integrate(integrand, (x, 1, 10))"
   ]
  },
  {
   "cell_type": "markdown",
   "metadata": {},
   "source": [
    "The definite integral is specified by passing a tuple, with the variable to be integrated (here `x`) and the lower and upper limits (which can be expressions).\n",
    "\n",
    "Note that `sympy` includes an \"infinity\" object `oo` (two `o`'s), which can be used in the limits of integration:"
   ]
  },
  {
   "cell_type": "code",
   "execution_count": 27,
   "metadata": {
    "collapsed": false
   },
   "outputs": [
    {
     "data": {
      "image/png": "[encoded data removed]",
      "text/latex": [
       "$$1$$"
      ],
      "text/plain": [
       "1"
      ]
     },
     "execution_count": 27,
     "metadata": {},
     "output_type": "execute_result"
    }
   ],
   "source": [
    "sympy.integrate(sympy.exp(-x), (x, 0, sympy.oo))"
   ]
  },
  {
   "cell_type": "markdown",
   "metadata": {},
   "source": [
    "Multiple integration for higher dimensional integrals can be performed:"
   ]
  },
  {
   "cell_type": "code",
   "execution_count": 28,
   "metadata": {
    "collapsed": false
   },
   "outputs": [
    {
     "data": {
      "image/png": "[encoded data removed]",
      "text/latex": [
       "$$- \\frac{e^{- x}}{4} e^{- y} \\sin{\\left (x \\right )} \\sin{\\left (y \\right )} - \\frac{e^{- x}}{4} e^{- y} \\sin{\\left (x \\right )} \\cos{\\left (y \\right )} + \\frac{e^{- x}}{4} e^{- y} \\sin{\\left (y \\right )} \\cos{\\left (x \\right )} + \\frac{e^{- x}}{4} e^{- y} \\cos{\\left (x \\right )} \\cos{\\left (y \\right )}$$"
      ],
      "text/plain": [
       "   -x  -y                  -x  -y                  -x  -y                  -x \n",
       "  ℯ  ⋅ℯ  ⋅sin(x)⋅sin(y)   ℯ  ⋅ℯ  ⋅sin(x)⋅cos(y)   ℯ  ⋅ℯ  ⋅sin(y)⋅cos(x)   ℯ  ⋅\n",
       "- ───────────────────── - ───────────────────── + ───────────────────── + ────\n",
       "            4                       4                       4                 \n",
       "\n",
       " -y              \n",
       "ℯ  ⋅cos(x)⋅cos(y)\n",
       "─────────────────\n",
       "      4          "
      ]
     },
     "execution_count": 28,
     "metadata": {},
     "output_type": "execute_result"
    }
   ],
   "source": [
    "sympy.integrate(sympy.exp(-(x+y))*sympy.cos(x)*sympy.sin(y), x, y)"
   ]
  },
  {
   "cell_type": "code",
   "execution_count": 29,
   "metadata": {
    "collapsed": false
   },
   "outputs": [
    {
     "data": {
      "image/png": "[encoded data removed]",
      "text/latex": [
       "$$\\frac{1}{4 e^{2 \\pi}} + \\frac{1}{2 e^{\\pi}} + \\frac{1}{4}$$"
      ],
      "text/plain": [
       " -2⋅π    -π    \n",
       "ℯ       ℯ     1\n",
       "───── + ─── + ─\n",
       "  4      2    4"
      ]
     },
     "execution_count": 29,
     "metadata": {},
     "output_type": "execute_result"
    }
   ],
   "source": [
    "sympy.integrate(sympy.exp(-(x+y))*sympy.cos(x)*sympy.sin(y), \n",
    "                (x, 0, sympy.pi), (y, 0, sympy.pi))"
   ]
  },
  {
   "cell_type": "markdown",
   "metadata": {},
   "source": [
    "Again, there is an unevaluated integral:"
   ]
  },
  {
   "cell_type": "code",
   "execution_count": 30,
   "metadata": {
    "collapsed": false
   },
   "outputs": [
    {
     "data": {
      "image/png": "[encoded data removed]",
      "text/latex": [
       "$$\\int \\log^{2}{\\left (x \\right )}\\, dx$$"
      ],
      "text/plain": [
       "⌠           \n",
       "⎮    2      \n",
       "⎮ log (x) dx\n",
       "⌡           "
      ]
     },
     "execution_count": 30,
     "metadata": {},
     "output_type": "execute_result"
    }
   ],
   "source": [
    "sympy.Integral(integrand, x)"
   ]
  },
  {
   "cell_type": "code",
   "execution_count": 31,
   "metadata": {
    "collapsed": false
   },
   "outputs": [
    {
     "data": {
      "image/png": "[encoded data removed]",
      "text/latex": [
       "$$\\int_{1}^{10} \\log^{2}{\\left (x \\right )}\\, dx$$"
      ],
      "text/plain": [
       "10           \n",
       "⌠            \n",
       "⎮     2      \n",
       "⎮  log (x) dx\n",
       "⌡            \n",
       "1            "
      ]
     },
     "execution_count": 31,
     "metadata": {},
     "output_type": "execute_result"
    }
   ],
   "source": [
    "sympy.Integral(integrand, (x, 1, 10))"
   ]
  },
  {
   "cell_type": "markdown",
   "metadata": {},
   "source": [
    "Again, the `doit` method will explicitly evaluate the result where possible."
   ]
  },
  {
   "cell_type": "markdown",
   "metadata": {},
   "source": [
    "## Differential equations"
   ]
  },
  {
   "cell_type": "markdown",
   "metadata": {},
   "source": [
    "Defining and solving differential equations uses the pattern from the previous sections. We'll use the same example problem as in the `scipy` case, \n",
    "\\begin{equation}\n",
    "  \\frac{\\text{d} y}{\\text{d} t} = e^{-t} - y^2, \\qquad y(0) = 1.\n",
    "\\end{equation}\n",
    "\n",
    "First we define that $y$ is a function, currently unknown, and $t$ is a variable."
   ]
  },
  {
   "cell_type": "code",
   "execution_count": 32,
   "metadata": {
    "collapsed": true
   },
   "outputs": [],
   "source": [
    "y = sympy.Function('y')\n",
    "t = sympy.Symbol('t')"
   ]
  },
  {
   "cell_type": "markdown",
   "metadata": {},
   "source": [
    "`y` is a general function, and can be a function of anything at this point (any number of variables with any name). To use it consistently, we *must* refer to it explicitly as a function of $t$ everywhere. For example,"
   ]
  },
  {
   "cell_type": "code",
   "execution_count": 33,
   "metadata": {
    "collapsed": false
   },
   "outputs": [
    {
     "data": {
      "image/png": "[encoded data removed]",
      "text/latex": [
       "$$y{\\left (t \\right )}$$"
      ],
      "text/plain": [
       "y(t)"
      ]
     },
     "execution_count": 33,
     "metadata": {},
     "output_type": "execute_result"
    }
   ],
   "source": [
    "y(t)"
   ]
  },
  {
   "cell_type": "markdown",
   "metadata": {},
   "source": [
    "We then define the differential equation. `sympy.Eq` defines the equation, and `diff` differentiates:"
   ]
  },
  {
   "cell_type": "code",
   "execution_count": 34,
   "metadata": {
    "collapsed": false
   },
   "outputs": [
    {
     "data": {
      "image/png": "[encoded data removed]",
      "text/latex": [
       "$$\\frac{d}{d t} y{\\left (t \\right )} = - y^{2}{\\left (t \\right )} + e^{- t}$$"
      ],
      "text/plain": [
       "d             2       -t\n",
       "──(y(t)) = - y (t) + ℯ  \n",
       "dt                      "
      ]
     },
     "execution_count": 34,
     "metadata": {},
     "output_type": "execute_result"
    }
   ],
   "source": [
    "ode = sympy.Eq(y(t).diff(t), sympy.exp(-t) - y(t)**2)\n",
    "ode"
   ]
  },
  {
   "cell_type": "markdown",
   "metadata": {},
   "source": [
    "Here we have used `diff` as a method applied to the function. As `sympy` can't differentiate $y(t)$ (as it doesn't have an explicit value), it leaves it unevaluated.\n",
    "\n",
    "We can now use the `dsolve` function to get the solution to the ODE. The syntax is very similar to the `solve` function used above:"
   ]
  },
  {
   "cell_type": "code",
   "execution_count": 35,
   "metadata": {
    "collapsed": false
   },
   "outputs": [
    {
     "data": {
      "image/png": "[encoded data removed]",
      "text/latex": [
       "$$y{\\left (t \\right )} = \\frac{t^{2}}{2} \\left(C_{1} - 1\\right) + \\frac{t^{3}}{6} \\left(2 C_{1} + 1\\right) + \\frac{t^{4}}{24} \\left(C_{1} \\left(5 C_{1} + 1\\right) + C_{1} + 3\\right) + \\frac{t^{5}}{120} \\left(3 C_{1} \\left(- 6 C_{1} + 5\\right) - 8 C_{1} - 9\\right) + C_{1} + C_{1} t + \\mathcal{O}\\left(t^{6}\\right)$$"
      ],
      "text/plain": [
       "        2             3               4                             5         \n",
       "       t ⋅(C₁ - 1)   t ⋅(2⋅C₁ + 1)   t ⋅(C₁⋅(5⋅C₁ + 1) + C₁ + 3)   t ⋅(3⋅C₁⋅(-\n",
       "y(t) = ─────────── + ───────────── + ─────────────────────────── + ───────────\n",
       "            2              6                      24                          \n",
       "\n",
       "                                         \n",
       "6⋅C₁ + 5) - 8⋅C₁ - 9)                ⎛ 6⎞\n",
       "───────────────────── + C₁ + C₁⋅t + O⎝t ⎠\n",
       "   120                                   "
      ]
     },
     "execution_count": 35,
     "metadata": {},
     "output_type": "execute_result"
    }
   ],
   "source": [
    "sympy.dsolve(ode, y(t))"
   ]
  },
  {
   "cell_type": "markdown",
   "metadata": {},
   "source": [
    "This is an impressively horrible solution, and it still contains an integration constant. We need to include the initial condition $y(0)=1$. We do this with the keyword argument `ics`, which takes a *dictionary*:"
   ]
  },
  {
   "cell_type": "code",
   "execution_count": 36,
   "metadata": {
    "collapsed": false
   },
   "outputs": [
    {
     "data": {
      "image/png": "[encoded data removed]",
      "text/latex": [
       "$$y{\\left (t \\right )} = 1 - \\frac{t^{2}}{2} + \\frac{t^{3}}{2} - \\frac{7 t^{4}}{24} + \\frac{3 t^{5}}{40} + \\mathcal{O}\\left(t^{6}\\right)$$"
      ],
      "text/plain": [
       "            2    3      4      5        \n",
       "           t    t    7⋅t    3⋅t     ⎛ 6⎞\n",
       "y(t) = 1 - ── + ── - ──── + ──── + O⎝t ⎠\n",
       "           2    2     24     40         "
      ]
     },
     "execution_count": 36,
     "metadata": {},
     "output_type": "execute_result"
    }
   ],
   "source": [
    "ode_solution = sympy.dsolve(ode, y(t), ics={y(0) : 1})\n",
    "ode_solution"
   ]
  },
  {
   "cell_type": "markdown",
   "metadata": {},
   "source": [
    "We now have a series solution that can be compared to the previous numerical solution. However, the solution is not an expression, but an *equation*. To get the actual expression, we need the right hand side of the equation:"
   ]
  },
  {
   "cell_type": "code",
   "execution_count": 37,
   "metadata": {
    "collapsed": false
   },
   "outputs": [
    {
     "data": {
      "image/png": "[encoded data removed]",
      "text/latex": [
       "$$1 - \\frac{t^{2}}{2} + \\frac{t^{3}}{2} - \\frac{7 t^{4}}{24} + \\frac{3 t^{5}}{40} + \\mathcal{O}\\left(t^{6}\\right)$$"
      ],
      "text/plain": [
       "     2    3      4      5        \n",
       "    t    t    7⋅t    3⋅t     ⎛ 6⎞\n",
       "1 - ── + ── - ──── + ──── + O⎝t ⎠\n",
       "    2    2     24     40         "
      ]
     },
     "execution_count": 37,
     "metadata": {},
     "output_type": "execute_result"
    }
   ],
   "source": [
    "ode_solution.rhs"
   ]
  },
  {
   "cell_type": "markdown",
   "metadata": {},
   "source": [
    "We also note that, as we have a series solution, we have the order term ${\\cal O}$ showing that there are higher order terms to the solution. We cannot evaluate this term, so will often want to drop it (\"throw away the higher order terms\"). We can do this explicitly using `removeO`:"
   ]
  },
  {
   "cell_type": "code",
   "execution_count": 38,
   "metadata": {
    "collapsed": false
   },
   "outputs": [
    {
     "data": {
      "image/png": "[encoded data removed]",
      "text/latex": [
       "$$\\frac{3 t^{5}}{40} - \\frac{7 t^{4}}{24} + \\frac{t^{3}}{2} - \\frac{t^{2}}{2} + 1$$"
      ],
      "text/plain": [
       "   5      4    3    2    \n",
       "3⋅t    7⋅t    t    t     \n",
       "──── - ──── + ── - ── + 1\n",
       " 40     24    2    2     "
      ]
     },
     "execution_count": 38,
     "metadata": {},
     "output_type": "execute_result"
    }
   ],
   "source": [
    "ode_solution.rhs.removeO()"
   ]
  },
  {
   "cell_type": "markdown",
   "metadata": {},
   "source": [
    "## Plotting"
   ]
  },
  {
   "cell_type": "markdown",
   "metadata": {},
   "source": [
    "`sympy` provides an interface to `matplotlib` so that expressions can be directly plotted. For example,"
   ]
  },
  {
   "cell_type": "code",
   "execution_count": 39,
   "metadata": {
    "collapsed": false
   },
   "outputs": [
    {
     "data": {
      "image/png": "[encoded data removed]",
      "text/plain": [
       "<matplotlib.figure.Figure at 0x107579410>"
      ]
     },
     "metadata": {},
     "output_type": "display_data"
    }
   ],
   "source": [
    "%matplotlib inline\n",
    "sympy.plot(sympy.sin(x));"
   ]
  },
  {
   "cell_type": "markdown",
   "metadata": {},
   "source": [
    "We can explicitly set limits, for example"
   ]
  },
  {
   "cell_type": "code",
   "execution_count": 40,
   "metadata": {
    "collapsed": false
   },
   "outputs": [
    {
     "data": {
      "image/png": "[encoded data removed]",
      "text/plain": [
       "<matplotlib.figure.Figure at 0x10769ded0>"
      ]
     },
     "metadata": {},
     "output_type": "display_data"
    }
   ],
   "source": [
    "sympy.plot(sympy.exp(-x)*sympy.sin(x**2), (x, 0, 1));"
   ]
  },
  {
   "cell_type": "markdown",
   "metadata": {},
   "source": [
    "We can plot the solution to the differential equation computed above:"
   ]
  },
  {
   "cell_type": "code",
   "execution_count": 41,
   "metadata": {
    "collapsed": false
   },
   "outputs": [
    {
     "data": {
      "image/png": "[encoded data removed]",
      "text/plain": [
       "<matplotlib.figure.Figure at 0x107770a90>"
      ]
     },
     "metadata": {},
     "output_type": "display_data"
    }
   ],
   "source": [
    "sympy.plot(ode_solution.rhs.removeO(), xlim=(0, 1), ylim=(0.75, 1.05));"
   ]
  },
  {
   "cell_type": "markdown",
   "metadata": {},
   "source": [
    "This can be *visually* compared to the previous result. However, we would often like a more precise comparison, which requires numerically evaluating the solution to the ODE at specific points."
   ]
  },
  {
   "cell_type": "markdown",
   "metadata": {},
   "source": [
    "## lambdify"
   ]
  },
  {
   "cell_type": "markdown",
   "metadata": {},
   "source": [
    "At the end of a symbolic calculation using `sympy` we will have a result that is often long and complex, and that is needed in another part of another code. We could type the appropriate expression in by hand, but this is tedious and error prone. A better way is to make the computer do it.\n",
    "\n",
    "The example we use here is the solution to the ODE above. We have solved it symbolically, and the result is a power series. We have the first few terms of that expression. We can also solve it numerically using `scipy`. We want to compare the two.\n",
    "\n",
    "First, let us recover the `scipy` numerical result:"
   ]
  },
  {
   "cell_type": "code",
   "execution_count": 42,
   "metadata": {
    "collapsed": false
   },
   "outputs": [],
   "source": [
    "def dydt(y, t):\n",
    "    \"\"\"\n",
    "    Defining the ODE dy/dt = e^{-t} - y^2.\n",
    "    \n",
    "    Parameters\n",
    "    ----------\n",
    "    \n",
    "    y : real\n",
    "        The value of y at time t (the current numerical approximation)\n",
    "    t : real\n",
    "        The current time t\n",
    "        \n",
    "    Returns\n",
    "    -------\n",
    "    \n",
    "    dydt : real\n",
    "        The RHS function defining the ODE.\n",
    "    \"\"\"\n",
    "    \n",
    "    from numpy import exp\n",
    "    \n",
    "    return exp(-t) - y**2\n",
    "\n",
    "from scipy.integrate import odeint\n",
    "import numpy\n",
    "\n",
    "t_scipy = numpy.linspace(0.0, 1.0)\n",
    "y0 = [1.0]\n",
    "\n",
    "y_scipy = odeint(dydt, y0, t_scipy)"
   ]
  },
  {
   "cell_type": "markdown",
   "metadata": {},
   "source": [
    "We want to evaluate our `sympy` solution at the same points as our `scipy` solution, in order to do a direct comparison. In order to do that, we want to construct a function that computes our `sympy` power series solution, without typing it in. That is what `lambdify` is for: it creates a function from a sympy expression.\n",
    "\n",
    "First let us get the expression explicitly:"
   ]
  },
  {
   "cell_type": "code",
   "execution_count": 43,
   "metadata": {
    "collapsed": false
   },
   "outputs": [
    {
     "data": {
      "image/png": "[encoded data removed]",
      "text/latex": [
       "$$\\frac{3 t^{5}}{40} - \\frac{7 t^{4}}{24} + \\frac{t^{3}}{2} - \\frac{t^{2}}{2} + 1$$"
      ],
      "text/plain": [
       "   5      4    3    2    \n",
       "3⋅t    7⋅t    t    t     \n",
       "──── - ──── + ── - ── + 1\n",
       " 40     24    2    2     "
      ]
     },
     "execution_count": 43,
     "metadata": {},
     "output_type": "execute_result"
    }
   ],
   "source": [
    "ode_expression = ode_solution.rhs.removeO()\n",
    "ode_expression"
   ]
  },
  {
   "cell_type": "markdown",
   "metadata": {},
   "source": [
    "Then we construct the function using `lambdify`:"
   ]
  },
  {
   "cell_type": "code",
   "execution_count": 44,
   "metadata": {
    "collapsed": true
   },
   "outputs": [],
   "source": [
    "from sympy.utilities.lambdify import lambdify\n",
    "\n",
    "ode_function = lambdify((t,), ode_expression)"
   ]
  },
  {
   "cell_type": "markdown",
   "metadata": {},
   "source": [
    "The first argument to `lambdify` is a tuple containing the arguments of the function to be created. In this case that's just `t`, the time(s) at which we want to evaluate the expression. The second argument to `lambdify` is the expression that we want converted into a function.\n",
    "\n",
    "We now have a function that we can directly call:"
   ]
  },
  {
   "cell_type": "code",
   "execution_count": 45,
   "metadata": {
    "collapsed": false
   },
   "outputs": [
    {
     "name": "stdout",
     "output_type": "stream",
     "text": [
      "sympy solution at t=0: 1.0\n",
      "sympy solution at t=0.5: 0.921614583333\n"
     ]
    }
   ],
   "source": [
    "print(\"sympy solution at t=0: {}\".format(ode_function(0.0)))\n",
    "print(\"sympy solution at t=0.5: {}\".format(ode_function(0.5)))"
   ]
  },
  {
   "cell_type": "markdown",
   "metadata": {},
   "source": [
    "And we can directly apply this function to the times at which the `scipy` solution is constructed, for comparison:"
   ]
  },
  {
   "cell_type": "code",
   "execution_count": 46,
   "metadata": {
    "collapsed": false
   },
   "outputs": [],
   "source": [
    "y_sympy = ode_function(t_scipy)"
   ]
  },
  {
   "cell_type": "markdown",
   "metadata": {},
   "source": [
    "Now we can we `matplotlib` to plot both on the same figure:"
   ]
  },
  {
   "cell_type": "code",
   "execution_count": 47,
   "metadata": {
    "collapsed": false
   },
   "outputs": [
    {
     "data": {
      "image/png": "[encoded data removed]",
      "text/plain": [
       "<matplotlib.figure.Figure at 0x1075f9650>"
      ]
     },
     "metadata": {},
     "output_type": "display_data"
    }
   ],
   "source": [
    "from matplotlib import pyplot\n",
    "pyplot.plot(t_scipy, y_scipy[:,0], 'b-', label='scipy')\n",
    "pyplot.plot(t_scipy, y_sympy, 'k--', label='sympy')\n",
    "pyplot.xlabel(r'$t$')\n",
    "pyplot.ylabel(r'$y$')\n",
    "pyplot.legend(loc='upper right')\n",
    "pyplot.show()"
   ]
  },
  {
   "cell_type": "markdown",
   "metadata": {},
   "source": [
    "We see good agreement at the early times, but as $t$ gets larger the accuracy gets worse. It is likely that we would need to retain more terms in the power series for larger $t$.\n",
    "\n",
    "Now that we have `numpy` arrays explicitly containing the solutions, we can manipulate these to see the differences between solutions:"
   ]
  },
  {
   "cell_type": "code",
   "execution_count": 48,
   "metadata": {
    "collapsed": false
   },
   "outputs": [
    {
     "data": {
      "image/png": "[encoded data removed]",
      "text/plain": [
       "<matplotlib.figure.Figure at 0x1076be890>"
      ]
     },
     "metadata": {},
     "output_type": "display_data"
    }
   ],
   "source": [
    "pyplot.semilogy(t_scipy, numpy.abs(y_scipy[:,0]-y_sympy))\n",
    "pyplot.xlabel(r'$t$')\n",
    "pyplot.ylabel('Difference in solutions');"
   ]
  },
  {
   "cell_type": "markdown",
   "metadata": {},
   "source": [
    "# Further reading"
   ]
  },
  {
   "cell_type": "markdown",
   "metadata": {},
   "source": [
    "`sympy` has [detailed documentation](http://docs.sympy.org/latest/index.html) and a [useful tutorial](http://docs.sympy.org/dev/tutorial/index.html)."
   ]
  }
 ],
 "metadata": {
  "kernelspec": {
   "display_name": "Python 2",
   "language": "python",
   "name": "python2"
  },
  "language_info": {
   "codemirror_mode": {
    "name": "ipython",
    "version": 2
   },
   "file_extension": ".py",
   "mimetype": "text/x-python",
   "name": "python",
   "nbconvert_exporter": "python",
   "pygments_lexer": "ipython2",
   "version": "2.7.10"
  }
 },
 "nbformat": 4,
 "nbformat_minor": 0
}
