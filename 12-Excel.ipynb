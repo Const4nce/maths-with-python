{
 "cells": [
  {
   "cell_type": "markdown",
   "metadata": {},
   "source": [
    "# Excel"
   ]
  },
  {
   "cell_type": "markdown",
   "metadata": {},
   "source": [
    "Mathematics is not just about *getting* a solution, but also about *communicating* it: clearly, precisely, in a manner and using a medium that your audience can understand.\n",
    "\n",
    "When communicating a large amount of data, particularly to non-specialists, there is one tool that is widely known and used: Microsoft Excel. Whether you like it or loath it, at some point you'll probably have to use it.\n",
    "\n",
    "Whilst you *can* program in Excel, here we'll focus on using Excel to communicate the results of other programs, or as a source of data."
   ]
  },
  {
   "cell_type": "markdown",
   "metadata": {},
   "source": [
    "## Middle-square method"
   ]
  },
  {
   "cell_type": "markdown",
   "metadata": {},
   "source": [
    "We're going to generate some \"random\" numbers using Python. We'll then use Excel to see just how random they are. So our three step process is to\n",
    "\n",
    "1. Write a Python code implementing the [Middle-square method](https://en.wikipedia.org/wiki/Middle-square_method) to generate random numbers;\n",
    "2. Generate a lot of numbers and save them as an Excel workbook;\n",
    "3. Analyze the results in Excel."
   ]
  },
  {
   "cell_type": "markdown",
   "metadata": {},
   "source": [
    "The Middle-square method takes a *seed*, which is an integer, with $n$ digits ($n$ must be even): for example, $23$ with $2$ digits. It squares the seed to get a number with $2 n$ digits: so $23^2 = 0529$ with $4$ digits. If necessary (as in this example), we \"pad\" the square with zeros to make the result have $2 n$ digits. Our new \"random\" number is found by taking the *middle* $n$ digits of the square: so the middle $2$ digits of $0529$ are $52$. To get the next \"random\" number we repeat the process: $52^2 = 2704 \\to 70$, $70^2 = 4900 \\to 90$, and so on."
   ]
  },
  {
   "cell_type": "markdown",
   "metadata": {},
   "source": [
    "Let's write a Python function that takes a seed and generates $N$ random numbers."
   ]
  },
  {
   "cell_type": "code",
   "execution_count": 1,
   "metadata": {
    "collapsed": true
   },
   "outputs": [],
   "source": [
    "def middle_square(seed, N):\n",
    "    \"\"\"\n",
    "    The Middle-square method for generating pseudo-random numbers.\n",
    "    \n",
    "    Parameters\n",
    "    ----------\n",
    "    \n",
    "    seed : int\n",
    "        The seed for the random number generation, n digits long\n",
    "    N : int\n",
    "        The number of random numbers to generate\n",
    "        \n",
    "    Returns\n",
    "    -------\n",
    "    \n",
    "    random_list : list of int\n",
    "        The random numbers: each will be an integer with n digits\n",
    "    \"\"\"\n",
    "    \n",
    "    n = len(str(seed))\n",
    "    assert n%2 == 0, \"n must be even\"\n",
    "    random_list = []\n",
    "    previous_rn = seed\n",
    "    for i in range(N):\n",
    "        square = str(previous_rn**2)\n",
    "        digits_square = len(square)\n",
    "        square_padded = (2*n - digits_square) * '0' + square\n",
    "        assert len(square_padded) == 2*n\n",
    "        new_rn = int(square_padded[n-n//2:n+n//2])\n",
    "        random_list.append(new_rn)\n",
    "        previous_rn = new_rn\n",
    "    return random_list"
   ]
  },
  {
   "cell_type": "markdown",
   "metadata": {},
   "source": [
    "We can now test this on our simple seed, $23$."
   ]
  },
  {
   "cell_type": "code",
   "execution_count": 2,
   "metadata": {
    "collapsed": false
   },
   "outputs": [
    {
     "name": "stdout",
     "output_type": "stream",
     "text": [
      "[52, 70, 90, 10, 10, 10, 10, 10, 10, 10]\n"
     ]
    }
   ],
   "source": [
    "print(middle_square(23, 10))"
   ]
  },
  {
   "cell_type": "markdown",
   "metadata": {},
   "source": [
    "We see this does a terrible job given this seed: it produces 4 numbers and then just repeats the last in a cycle. Does this always happen? We can use `set` to get the unique entries in the list, to count how well/badly it does:"
   ]
  },
  {
   "cell_type": "code",
   "execution_count": 3,
   "metadata": {
    "collapsed": false
   },
   "outputs": [
    {
     "name": "stdout",
     "output_type": "stream",
     "text": [
      "20 2\n",
      "21 8\n",
      "22 4\n",
      "23 4\n",
      "24 2\n",
      "25 5\n",
      "26 5\n",
      "27 5\n",
      "28 5\n",
      "29 4\n",
      "30 2\n",
      "31 10\n",
      "32 2\n",
      "33 4\n",
      "34 6\n",
      "35 5\n",
      "36 5\n",
      "37 6\n",
      "38 8\n",
      "39 4\n"
     ]
    }
   ],
   "source": [
    "for i in range(20, 40):\n",
    "    print(i, len(set(middle_square(i, 15))))"
   ]
  },
  {
   "cell_type": "markdown",
   "metadata": {},
   "source": [
    "Only one of these seeds produces more than a single-digit set of \"random\" numbers! Very poor."
   ]
  },
  {
   "cell_type": "markdown",
   "metadata": {},
   "source": [
    "However, life does improve as we increase the length of the seed:"
   ]
  },
  {
   "cell_type": "code",
   "execution_count": 4,
   "metadata": {
    "collapsed": false
   },
   "outputs": [
    {
     "name": "stdout",
     "output_type": "stream",
     "text": [
      "[2243, 310, 961, 9235, 2852, 1339, 7929, 8690, 5161, 6359]\n"
     ]
    }
   ],
   "source": [
    "print(middle_square(4269, 10))"
   ]
  },
  {
   "cell_type": "code",
   "execution_count": 5,
   "metadata": {
    "collapsed": false
   },
   "outputs": [
    {
     "name": "stdout",
     "output_type": "stream",
     "text": [
      "61\n"
     ]
    }
   ],
   "source": [
    "print(len(set(middle_square(4269,100))))"
   ]
  },
  {
   "cell_type": "code",
   "execution_count": 6,
   "metadata": {
    "collapsed": false
   },
   "outputs": [
    {
     "name": "stdout",
     "output_type": "stream",
     "text": [
      "[47342681, 32944426, 33520446, 62030003, 72127218, 33557641, 11526948, 87053019, 22811701, 37370251]\n"
     ]
    }
   ],
   "source": [
    "print(middle_square(41236797, 10))"
   ]
  },
  {
   "cell_type": "code",
   "execution_count": 7,
   "metadata": {
    "collapsed": false
   },
   "outputs": [
    {
     "name": "stdout",
     "output_type": "stream",
     "text": [
      "2364\n"
     ]
    }
   ],
   "source": [
    "print(len(set(middle_square(41236797,10000))))"
   ]
  },
  {
   "cell_type": "markdown",
   "metadata": {
    "collapsed": true
   },
   "source": [
    "It would be interesting to analyse how the length of the sequence of \"random\" numbers increases as we increase the number of seed digits. One way of doing this analysis would be to generate the data in Python and create the plots and analysis in Excel."
   ]
  },
  {
   "cell_type": "markdown",
   "metadata": {},
   "source": [
    "## Excel"
   ]
  },
  {
   "cell_type": "markdown",
   "metadata": {},
   "source": [
    "Using Python and our function above we can rapidly generate a large amount of data. We do not want to copy this into Excel by hand, or by copy-and-paste: both are error prone and tedious. Instead we want the computer to do the work.\n",
    "\n",
    "We will use the `xlwt` and `xlrd` packages to make Python interact with Excel. We will start by writing some simple data out; then, after some Excel manipulations, we will read it back in to cross-check."
   ]
  },
  {
   "cell_type": "markdown",
   "metadata": {},
   "source": [
    "### Writing data"
   ]
  },
  {
   "cell_type": "markdown",
   "metadata": {},
   "source": [
    "An Excel file is referred to as a *workbook*, which contains *sheets*. To create an Excel file, we create a workbook:"
   ]
  },
  {
   "cell_type": "code",
   "execution_count": 8,
   "metadata": {
    "collapsed": true
   },
   "outputs": [],
   "source": [
    "import xlwt\n",
    "workbook = xlwt.Workbook()"
   ]
  },
  {
   "cell_type": "markdown",
   "metadata": {},
   "source": [
    "In this book, we then add a sheet, which we will give the name `Data`:"
   ]
  },
  {
   "cell_type": "code",
   "execution_count": 9,
   "metadata": {
    "collapsed": false
   },
   "outputs": [],
   "source": [
    "sheet1 = workbook.add_sheet('Data')"
   ]
  },
  {
   "cell_type": "markdown",
   "metadata": {},
   "source": [
    "We now want to add some data to the sheet. Let us take the initial list of \"random\" numbers that used the seed $23$:"
   ]
  },
  {
   "cell_type": "code",
   "execution_count": 10,
   "metadata": {
    "collapsed": true
   },
   "outputs": [],
   "source": [
    "data_list = middle_square(23, 10)"
   ]
  },
  {
   "cell_type": "markdown",
   "metadata": {},
   "source": [
    "We will then `write` the data into the sheet. The `write` function takes the row and column number of the cell, and the data to put there:"
   ]
  },
  {
   "cell_type": "code",
   "execution_count": 11,
   "metadata": {
    "collapsed": true
   },
   "outputs": [],
   "source": [
    "for row, data in enumerate(data_list):\n",
    "    sheet1.write(row, 0, data)"
   ]
  },
  {
   "cell_type": "markdown",
   "metadata": {},
   "source": [
    "Finally, we save the resulting file:"
   ]
  },
  {
   "cell_type": "code",
   "execution_count": 12,
   "metadata": {
    "collapsed": true
   },
   "outputs": [],
   "source": [
    "workbook.save('initial_seed.xls')"
   ]
  },
  {
   "cell_type": "markdown",
   "metadata": {},
   "source": [
    "You should now see the file `initial_seed.xls`: when you open this in Excel, it contains the expected data."
   ]
  },
  {
   "cell_type": "markdown",
   "metadata": {},
   "source": [
    "### Reading data"
   ]
  },
  {
   "cell_type": "markdown",
   "metadata": {},
   "source": [
    "The short Excel file contains the random list in column `A`, rows `1`-`10`. Inside Excel, we can do some simple analysis. Here we will compute the mean by entering the formula `=AVERAGE(A1:A10)` in cell `B1`: the result should be $28.2$. Save the resulting spreadsheet as a new file, `initial_seed_analysed.xls`."
   ]
  },
  {
   "cell_type": "markdown",
   "metadata": {},
   "source": [
    "Now we want to read the data in from the new file. In this case we know the data, but this is a useful method for dealing with large datasets that may be provided in Excel files."
   ]
  },
  {
   "cell_type": "markdown",
   "metadata": {},
   "source": [
    "First we open the workbook:"
   ]
  },
  {
   "cell_type": "code",
   "execution_count": 13,
   "metadata": {
    "collapsed": true
   },
   "outputs": [],
   "source": [
    "import xlrd\n",
    "workbook_new = xlrd.open_workbook('initial_seed_analysed.xls')"
   ]
  },
  {
   "cell_type": "markdown",
   "metadata": {},
   "source": [
    "There may, in general, be many sheets. Here we find them all (there is only one), and work with the first:"
   ]
  },
  {
   "cell_type": "code",
   "execution_count": 14,
   "metadata": {
    "collapsed": true
   },
   "outputs": [],
   "source": [
    "all_sheets = workbook_new.sheets()\n",
    "sheet1 = all_sheets[0]"
   ]
  },
  {
   "cell_type": "markdown",
   "metadata": {},
   "source": [
    "We assume that we know that the data is in the first column, and the mean at the top of the second. We find out how much data there is by checking the number of rows:"
   ]
  },
  {
   "cell_type": "code",
   "execution_count": 15,
   "metadata": {
    "collapsed": false
   },
   "outputs": [
    {
     "name": "stdout",
     "output_type": "stream",
     "text": [
      "10\n"
     ]
    }
   ],
   "source": [
    "data_length = sheet1.nrows\n",
    "print(data_length)"
   ]
  },
  {
   "cell_type": "markdown",
   "metadata": {},
   "source": [
    "We then read all the data into a new list:"
   ]
  },
  {
   "cell_type": "code",
   "execution_count": 16,
   "metadata": {
    "collapsed": false
   },
   "outputs": [
    {
     "name": "stdout",
     "output_type": "stream",
     "text": [
      "[52.0, 70.0, 90.0, 10.0, 10.0, 10.0, 10.0, 10.0, 10.0, 10.0]\n"
     ]
    }
   ],
   "source": [
    "data_list_analysed = []\n",
    "for row in range(data_length):\n",
    "    data_list_analysed.append(sheet1.cell(row, 0).value)\n",
    "print(data_list_analysed)"
   ]
  },
  {
   "cell_type": "markdown",
   "metadata": {},
   "source": [
    "Note that the results are floating point numbers, not the integers from the original list.\n",
    "\n",
    "We also read in the mean of the data:"
   ]
  },
  {
   "cell_type": "code",
   "execution_count": 17,
   "metadata": {
    "collapsed": false
   },
   "outputs": [
    {
     "name": "stdout",
     "output_type": "stream",
     "text": [
      "28.2\n"
     ]
    }
   ],
   "source": [
    "mean_excel = sheet1.cell(0, 1).value\n",
    "print(mean_excel)"
   ]
  },
  {
   "cell_type": "markdown",
   "metadata": {},
   "source": [
    "We have the expected results: by using a consistent data layout, and the `xlrd` variables `nrows` (as above), `ncols`, and `nsheets`, we can generalize this approach to read very large data sets."
   ]
  },
  {
   "cell_type": "markdown",
   "metadata": {},
   "source": [
    "# Exercise : Random seed length effects"
   ]
  },
  {
   "cell_type": "markdown",
   "metadata": {},
   "source": [
    "## Exercise 1"
   ]
  },
  {
   "cell_type": "markdown",
   "metadata": {},
   "source": [
    "Using the code above, find out how many *unique* random numbers are generated by the Middle-square method, for random seeds between the smallest $n$-digit number (e.g., $10$), and that number plus $10$. Do this for $n = 2, 4, 6, 8, 10$. This means the random seeds should be in $[10, 20]$, $[1000, 1010]$, $[100000, 100010]$, and so on.\n",
    "\n",
    "**Note**: for these seeds the maximum length of the sequence is less that $10^5$."
   ]
  },
  {
   "cell_type": "code",
   "execution_count": 18,
   "metadata": {
    "collapsed": false
   },
   "outputs": [
    {
     "name": "stdout",
     "output_type": "stream",
     "text": [
      "10 1\n",
      "11 9\n",
      "12 8\n",
      "13 7\n",
      "14 7\n",
      "15 5\n",
      "16 6\n",
      "17 6\n",
      "18 3\n",
      "19 6\n",
      "20 2\n",
      "1000 1\n",
      "1001 3\n",
      "1002 4\n",
      "1003 5\n",
      "1004 6\n",
      "1005 1\n",
      "1006 44\n",
      "1007 14\n",
      "1008 24\n",
      "1009 10\n",
      "1010 14\n",
      "100000 1\n",
      "100001 4\n",
      "100002 4\n",
      "100003 5\n",
      "100004 6\n",
      "100005 1\n",
      "100006 657\n",
      "100007 624\n",
      "100008 176\n",
      "100009 377\n",
      "100010 22\n",
      "10000000 1\n",
      "10000001 4\n",
      "10000002 5\n",
      "10000003 6\n",
      "10000004 7\n",
      "10000005 1\n",
      "10000006 834\n",
      "10000007 6482\n",
      "10000008 6492\n",
      "10000009 189\n",
      "10000010 102\n",
      "1000000000 1\n",
      "1000000001 4\n",
      "1000000002 5\n",
      "1000000003 6\n",
      "1000000004 7\n",
      "1000000005 1\n",
      "1000000006 70616\n",
      "1000000007 41095\n",
      "1000000008 21526\n",
      "1000000009 41\n",
      "1000000010 503\n"
     ]
    }
   ],
   "source": [
    "for ndigits in range(1,10,2):\n",
    "    for seed in range(10**ndigits, 10**ndigits+11):\n",
    "        print(seed, len(set(middle_square(seed, 100000))))"
   ]
  },
  {
   "cell_type": "markdown",
   "metadata": {},
   "source": [
    "## Exercise 2"
   ]
  },
  {
   "cell_type": "markdown",
   "metadata": {},
   "source": [
    "Create an Excel workbook containing the data. The first row should contain the number of digits. The next eleven rows should contain the length of the sequence."
   ]
  },
  {
   "cell_type": "code",
   "execution_count": 19,
   "metadata": {
    "collapsed": true
   },
   "outputs": [],
   "source": [
    "import xlwt\n",
    "workbook = xlwt.Workbook()\n",
    "sheet1 = workbook.add_sheet('Data')\n",
    "for column, ndigits in enumerate(range(1,10,2)):\n",
    "    sheet1.write(0, column, ndigits+1)\n",
    "    for row, seed in enumerate(range(10**ndigits, 10**ndigits+11)):\n",
    "        sequence_length = len(set(middle_square(seed, 100000)))\n",
    "        sheet1.write(row+1, column, sequence_length)\n",
    "workbook.save('Excel_Exercise1.xls')"
   ]
  },
  {
   "cell_type": "markdown",
   "metadata": {},
   "source": [
    "## Exercise 3"
   ]
  },
  {
   "cell_type": "markdown",
   "metadata": {},
   "source": [
    "Open the workbook in Excel. Add a second sheet called `Analysis`. The first row should contain the number of digits, as in the first row on the `Data` sheet. The second row should contain the mean of the sequence lengths for that corresponding number of digits. Save the result as a new Excel file."
   ]
  },
  {
   "cell_type": "markdown",
   "metadata": {},
   "source": [
    "## Exercise 4"
   ]
  },
  {
   "cell_type": "markdown",
   "metadata": {},
   "source": [
    "Read the data from the second sheet into Python and print it to the screen in the form (for example)\n",
    "\n",
    "`For 2 digits the average sequence length is 5.45.`\n",
    "\n",
    "Can you see a pattern?"
   ]
  },
  {
   "cell_type": "code",
   "execution_count": 20,
   "metadata": {
    "collapsed": false
   },
   "outputs": [
    {
     "name": "stdout",
     "output_type": "stream",
     "text": [
      "For 2 digits the average sequence length is 5.45\n",
      "For 4 digits the average sequence length is 11.45\n",
      "For 6 digits the average sequence length is 170.64\n",
      "For 8 digits the average sequence length is 1283.91\n",
      "For 10 digits the average sequence length is 12164.09\n"
     ]
    }
   ],
   "source": [
    "import xlrd\n",
    "workbook = xlrd.open_workbook('Excel_Exercise1_Analysis.xls')\n",
    "all_sheets = workbook.sheets()\n",
    "sheet2 = all_sheets[1]\n",
    "for column in range(sheet2.ncols):\n",
    "    ndigits = sheet2.cell(0, column).value\n",
    "    average_length = sheet2.cell(1, column).value\n",
    "    print(\"For {} digits the average sequence length is {:.2f}\".format(int(ndigits), average_length))"
   ]
  }
 ],
 "metadata": {
  "anaconda-cloud": {},
  "kernelspec": {
   "display_name": "Python [default]",
   "language": "python",
   "name": "python3"
  },
  "language_info": {
   "codemirror_mode": {
    "name": "ipython",
    "version": 3
   },
   "file_extension": ".py",
   "mimetype": "text/x-python",
   "name": "python",
   "nbconvert_exporter": "python",
   "pygments_lexer": "ipython3",
   "version": "3.4.5"
  },
  "nbconvert": {
   "title": "Excel"
  }
 },
 "nbformat": 4,
 "nbformat_minor": 0
}
