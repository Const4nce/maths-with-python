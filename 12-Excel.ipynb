{
 "cells": [
  {
   "cell_type": "markdown",
   "metadata": {},
   "source": [
    "# Excel"
   ]
  },
  {
   "cell_type": "markdown",
   "metadata": {},
   "source": [
    "Mathematics is not just about *getting* a solution, but also about *communicating* it: clearly, precisely, in a manner and using a medium that your audience can understand.\n",
    "\n",
    "When communicating a large amount of data, particularly to non-specialists, there is one tool that is widely known and used: Microsoft Excel. Whether you like it or loath it, at some point you'll probably have to use it.\n",
    "\n",
    "Whilst you *can* program in Excel, here we'll focus on using Excel to communicate the results of other programs, or as a source of data."
   ]
  },
  {
   "cell_type": "markdown",
   "metadata": {},
   "source": [
    "## Middle-square method"
   ]
  },
  {
   "cell_type": "markdown",
   "metadata": {},
   "source": [
    "We're going to generate some \"random\" numbers using Python. We'll then use Excel to see just how random they are. So our three step process is to\n",
    "\n",
    "1. Write a Python code implementing the [Middle-square method](https://en.wikipedia.org/wiki/Middle-square_method) to generate random numbers;\n",
    "2. Generate a lot of numbers and save them as an Excel workbook;\n",
    "3. Analyze the results in Excel."
   ]
  },
  {
   "cell_type": "markdown",
   "metadata": {},
   "source": [
    "The Middle-square method takes a *seed*, which is an integer, with $n$ digits ($n$ must be even): for example, $23$ with $2$ digits. It squares the seed to get a number with $2 n$ digits: so $23^2 = 0529$ with $4$ digits. If necessary (as in this example), we \"pad\" the square with zeros to make the result have $2 n$ digits. Our new \"random\" number is found by taking the *middle* $n$ digits of the square: so the middle $2$ digits of $0529$ are $52$. To get the next \"random\" number we repeat the process: $52^2 = 2704 \\to 70$, $70^2 = 4900 \\to 90$, and so on."
   ]
  },
  {
   "cell_type": "markdown",
   "metadata": {},
   "source": [
    "Let's write a Python function that takes a seed and generates $N$ random numbers."
   ]
  },
  {
   "cell_type": "code",
   "execution_count": 29,
   "metadata": {
    "collapsed": true
   },
   "outputs": [],
   "source": [
    "def middle_square(seed, N):\n",
    "    \"\"\"\n",
    "    The Middle-square method for generating pseudo-random numbers.\n",
    "    \n",
    "    Parameters\n",
    "    ----------\n",
    "    \n",
    "    seed : int\n",
    "        The seed for the random number generation, n digits long\n",
    "    N : int\n",
    "        The number of random numbers to generate\n",
    "        \n",
    "    Returns\n",
    "    -------\n",
    "    \n",
    "    random_list : list of int\n",
    "        The random numbers: each will be an integer with n digits\n",
    "    \"\"\"\n",
    "    \n",
    "    n = len(str(seed))\n",
    "    assert n%2 == 0, \"n must be even\"\n",
    "    random_list = []\n",
    "    previous_rn = seed\n",
    "    for i in range(N):\n",
    "        square = str(previous_rn**2)\n",
    "        digits_square = len(square)\n",
    "        square_padded = (2*n - digits_square) * '0' + square\n",
    "        assert len(square_padded) == 2*n\n",
    "        new_rn = int(square_padded[n-n//2:n+n//2])\n",
    "        random_list.append(new_rn)\n",
    "        previous_rn = new_rn\n",
    "    return random_list"
   ]
  },
  {
   "cell_type": "markdown",
   "metadata": {},
   "source": [
    "We can now test this on our simple seed, $23$."
   ]
  },
  {
   "cell_type": "code",
   "execution_count": 30,
   "metadata": {
    "collapsed": false
   },
   "outputs": [
    {
     "name": "stdout",
     "output_type": "stream",
     "text": [
      "[52, 70, 90, 10, 10, 10, 10, 10, 10, 10]\n"
     ]
    }
   ],
   "source": [
    "print(middle_square(23, 10))"
   ]
  },
  {
   "cell_type": "markdown",
   "metadata": {},
   "source": [
    "We see this does a terrible job given this seed: it produces 4 numbers and then just repeats the last in a cycle. Does this always happen? We can use `set` to get the unique entries in the list, to count how well/badly it does:"
   ]
  },
  {
   "cell_type": "code",
   "execution_count": 38,
   "metadata": {
    "collapsed": false
   },
   "outputs": [
    {
     "name": "stdout",
     "output_type": "stream",
     "text": [
      "20 2\n",
      "21 8\n",
      "22 4\n",
      "23 4\n",
      "24 2\n",
      "25 5\n",
      "26 5\n",
      "27 5\n",
      "28 5\n",
      "29 4\n",
      "30 2\n",
      "31 10\n",
      "32 2\n",
      "33 4\n",
      "34 6\n",
      "35 5\n",
      "36 5\n",
      "37 6\n",
      "38 8\n",
      "39 4\n"
     ]
    }
   ],
   "source": [
    "for i in range(20, 40):\n",
    "    print(i, len(set(middle_square(i, 15))))"
   ]
  },
  {
   "cell_type": "markdown",
   "metadata": {},
   "source": [
    "Only one of these seeds produces more than a single-digit set of \"random\" numbers! Very poor."
   ]
  },
  {
   "cell_type": "markdown",
   "metadata": {},
   "source": [
    "However, life does improve as we increase the length of the seed:"
   ]
  },
  {
   "cell_type": "code",
   "execution_count": 39,
   "metadata": {
    "collapsed": false
   },
   "outputs": [
    {
     "name": "stdout",
     "output_type": "stream",
     "text": [
      "[2243, 310, 961, 9235, 2852, 1339, 7929, 8690, 5161, 6359]\n"
     ]
    }
   ],
   "source": [
    "print(middle_square(4269, 10))"
   ]
  },
  {
   "cell_type": "code",
   "execution_count": 42,
   "metadata": {
    "collapsed": false
   },
   "outputs": [
    {
     "name": "stdout",
     "output_type": "stream",
     "text": [
      "61\n"
     ]
    }
   ],
   "source": [
    "print(len(set(middle_square(4269,100))))"
   ]
  },
  {
   "cell_type": "code",
   "execution_count": 41,
   "metadata": {
    "collapsed": false
   },
   "outputs": [
    {
     "name": "stdout",
     "output_type": "stream",
     "text": [
      "[47342681, 32944426, 33520446, 62030003, 72127218, 33557641, 11526948, 87053019, 22811701, 37370251]\n"
     ]
    }
   ],
   "source": [
    "print(middle_square(41236797, 10))"
   ]
  },
  {
   "cell_type": "code",
   "execution_count": 44,
   "metadata": {
    "collapsed": false
   },
   "outputs": [
    {
     "name": "stdout",
     "output_type": "stream",
     "text": [
      "2364\n"
     ]
    }
   ],
   "source": [
    "print(len(set(middle_square(41236797,10000))))"
   ]
  },
  {
   "cell_type": "code",
   "execution_count": null,
   "metadata": {
    "collapsed": true
   },
   "outputs": [],
   "source": []
  }
 ],
 "metadata": {
  "anaconda-cloud": {},
  "kernelspec": {
   "display_name": "Python [default]",
   "language": "python",
   "name": "python3"
  },
  "language_info": {
   "codemirror_mode": {
    "name": "ipython",
    "version": 3
   },
   "file_extension": ".py",
   "mimetype": "text/x-python",
   "name": "python",
   "nbconvert_exporter": "python",
   "pygments_lexer": "ipython3",
   "version": "3.4.5"
  },
  "nbconvert": {
   "title": "Excel"
  }
 },
 "nbformat": 4,
 "nbformat_minor": 0
}
